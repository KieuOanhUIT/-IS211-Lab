{
 "cells": [
  {
   "cell_type": "markdown",
   "id": "b31fc7c0-bd76-4ede-b762-21610f73ed17",
   "metadata": {},
   "source": [
    "22521062 - Tran Thi Kieu Oanh"
   ]
  },
  {
   "cell_type": "markdown",
   "id": "9e2337d7-2e66-4a7f-a502-b3a3cabd18e9",
   "metadata": {
    "jp-MarkdownHeadingCollapsed": true
   },
   "source": [
    "# TH4"
   ]
  },
  {
   "cell_type": "markdown",
   "id": "0fcadfac-563b-4e5a-a523-c1d1743e7d3f",
   "metadata": {
    "jp-MarkdownHeadingCollapsed": true
   },
   "source": [
    "## Bai tap 1"
   ]
  },
  {
   "cell_type": "code",
   "execution_count": 2,
   "id": "01e26e66-4fc3-42e0-acc9-3b310187d24d",
   "metadata": {},
   "outputs": [
    {
     "name": "stderr",
     "output_type": "stream",
     "text": [
      "25/04/17 08:38:28 WARN Utils: Your hostname, oanh-VirtualBox resolves to a loopback address: 127.0.1.1; using 10.0.2.15 instead (on interface enp0s3)\n",
      "25/04/17 08:38:28 WARN Utils: Set SPARK_LOCAL_IP if you need to bind to another address\n",
      "Setting default log level to \"WARN\".\n",
      "To adjust logging level use sc.setLogLevel(newLevel). For SparkR, use setLogLevel(newLevel).\n",
      "25/04/17 08:38:30 WARN NativeCodeLoader: Unable to load native-hadoop library for your platform... using builtin-java classes where applicable\n"
     ]
    }
   ],
   "source": [
    "from pyspark.sql import SparkSession\n",
    "\n",
    "spark = SparkSession.builder \\\n",
    "    .appName(\"MySparkApp\") \\\n",
    "    .getOrCreate()"
   ]
  },
  {
   "cell_type": "code",
   "execution_count": 6,
   "id": "19f7741d-4d02-438f-b5a7-92ca7930e94e",
   "metadata": {},
   "outputs": [
    {
     "name": "stderr",
     "output_type": "stream",
     "text": [
      "                                                                                "
     ]
    }
   ],
   "source": [
    "df = spark.read.json(\"file:////home/oanh/Downloads/spark-3.5.5-bin-hadoop3/examples/src/main/resources/people.json\")"
   ]
  },
  {
   "cell_type": "code",
   "execution_count": 7,
   "id": "49bf10e9-84b1-412e-9578-f340ea324d32",
   "metadata": {},
   "outputs": [
    {
     "name": "stderr",
     "output_type": "stream",
     "text": [
      "                                                                                "
     ]
    },
    {
     "name": "stdout",
     "output_type": "stream",
     "text": [
      "+----+-------+\n",
      "| age|   name|\n",
      "+----+-------+\n",
      "|NULL|Michael|\n",
      "|  30|   Andy|\n",
      "|  19| Justin|\n",
      "+----+-------+\n",
      "\n"
     ]
    }
   ],
   "source": [
    "df.show()"
   ]
  },
  {
   "cell_type": "code",
   "execution_count": 8,
   "id": "c7cf0b80-3ff0-4828-b999-c5d37bd73eb4",
   "metadata": {},
   "outputs": [
    {
     "name": "stdout",
     "output_type": "stream",
     "text": [
      "root\n",
      " |-- age: long (nullable = true)\n",
      " |-- name: string (nullable = true)\n",
      "\n"
     ]
    }
   ],
   "source": [
    "df.printSchema()"
   ]
  },
  {
   "cell_type": "code",
   "execution_count": 9,
   "id": "369a2ef4-feea-4663-9694-f4fb191d9380",
   "metadata": {},
   "outputs": [
    {
     "name": "stdout",
     "output_type": "stream",
     "text": [
      "+-------+\n",
      "|   name|\n",
      "+-------+\n",
      "|Michael|\n",
      "|   Andy|\n",
      "| Justin|\n",
      "+-------+\n",
      "\n"
     ]
    }
   ],
   "source": [
    "df.select(\"name\").show()"
   ]
  },
  {
   "cell_type": "code",
   "execution_count": 10,
   "id": "19f77310-6bd9-4e2a-907e-25ff656f7b7d",
   "metadata": {},
   "outputs": [
    {
     "name": "stdout",
     "output_type": "stream",
     "text": [
      "+-------+---------+\n",
      "|   name|(age + 1)|\n",
      "+-------+---------+\n",
      "|Michael|     NULL|\n",
      "|   Andy|       31|\n",
      "| Justin|       20|\n",
      "+-------+---------+\n",
      "\n"
     ]
    }
   ],
   "source": [
    "df.select(df['name'],df['age']+1).show()"
   ]
  },
  {
   "cell_type": "code",
   "execution_count": 11,
   "id": "20fc73b3-5c38-4da1-b914-fd0d77ccc67a",
   "metadata": {},
   "outputs": [
    {
     "name": "stdout",
     "output_type": "stream",
     "text": [
      "+---+----+\n",
      "|age|name|\n",
      "+---+----+\n",
      "| 30|Andy|\n",
      "+---+----+\n",
      "\n"
     ]
    }
   ],
   "source": [
    "df.filter(df['age']>21).show()"
   ]
  },
  {
   "cell_type": "code",
   "execution_count": 12,
   "id": "693ee5fd-966e-400d-8779-92a44198014e",
   "metadata": {},
   "outputs": [
    {
     "name": "stderr",
     "output_type": "stream",
     "text": [
      "[Stage 5:===========================================================(1 + 0) / 1]"
     ]
    },
    {
     "name": "stdout",
     "output_type": "stream",
     "text": [
      "+----+-----+\n",
      "| age|count|\n",
      "+----+-----+\n",
      "|  19|    1|\n",
      "|NULL|    1|\n",
      "|  30|    1|\n",
      "+----+-----+\n",
      "\n"
     ]
    },
    {
     "name": "stderr",
     "output_type": "stream",
     "text": [
      "                                                                                "
     ]
    }
   ],
   "source": [
    "df.groupBy(\"age\").count().show()"
   ]
  },
  {
   "cell_type": "markdown",
   "id": "b6ffef82-242a-4aec-a9ca-7c79155378c0",
   "metadata": {
    "jp-MarkdownHeadingCollapsed": true
   },
   "source": [
    "## Bai tap 2"
   ]
  },
  {
   "cell_type": "code",
   "execution_count": 14,
   "id": "73a090ef-3f99-4dc2-a76a-c6300a7d60d4",
   "metadata": {},
   "outputs": [
    {
     "name": "stderr",
     "output_type": "stream",
     "text": [
      "25/04/17 08:50:02 WARN SparkSession: Using an existing Spark session; only runtime SQL configurations will take effect.\n"
     ]
    }
   ],
   "source": [
    "spark = SparkSession.builder.appName(\"ReadCSV\").getOrCreate()"
   ]
  },
  {
   "cell_type": "code",
   "execution_count": 19,
   "id": "a0fa9da1-7bc3-4396-8a83-880945adb9a9",
   "metadata": {},
   "outputs": [],
   "source": [
    "df = spark.read.format(\"csv\").option(\"header\",\"true\").load(\"file:////home/oanh/Lab4/Đính kèm-20250417T011426Z-001/Đính kèm/ebay.csv\")"
   ]
  },
  {
   "cell_type": "code",
   "execution_count": 20,
   "id": "0acbdf59-3037-4494-aa7e-c22b3d81760c",
   "metadata": {},
   "outputs": [
    {
     "name": "stdout",
     "output_type": "stream",
     "text": [
      "+----------+-----+--------+--------------+----------+-------+-----+----+----------+\n",
      "| auctionid|  bid| bidtime|        bidder|bidderrate|openbid|price|item|daystolive|\n",
      "+----------+-----+--------+--------------+----------+-------+-----+----+----------+\n",
      "|8213034705|   95|2.927373|      jake7870|         0|     95|117.5|xbox|         3|\n",
      "|8213034705|  115|2.943484| davidbresler2|         1|     95|117.5|xbox|         3|\n",
      "|8213034705|  100|2.951285|gladimacowgirl|        58|     95|117.5|xbox|         3|\n",
      "|8213034705|117.5|2.998947|       daysrus|        10|     95|117.5|xbox|         3|\n",
      "|8213060420|    2|0.065266|    donnie4814|         5|      1|  120|xbox|         3|\n",
      "|8213060420|15.25|0.123218|   myreeceyboy|        52|      1|  120|xbox|         3|\n",
      "|8213060420|    3|0.186539|  parakeet2004|         5|      1|  120|xbox|         3|\n",
      "|8213060420|   10| 0.18669|  parakeet2004|         5|      1|  120|xbox|         3|\n",
      "|8213060420|24.99|0.187049|  parakeet2004|         5|      1|  120|xbox|         3|\n",
      "|8213060420|   20|0.249491| bluebubbles_1|        25|      1|  120|xbox|         3|\n",
      "|8213060420|   22| 0.24956| bluebubbles_1|        25|      1|  120|xbox|         3|\n",
      "|8213060420|   24|0.249653| bluebubbles_1|        25|      1|  120|xbox|         3|\n",
      "|8213060420|   26|0.249757| bluebubbles_1|        25|      1|  120|xbox|         3|\n",
      "|8213060420|   80| 0.59059|        sa4741|         3|      1|  120|xbox|         3|\n",
      "|8213060420|   75|0.657384|     jhnsn2273|        51|      1|  120|xbox|         3|\n",
      "|8213060420|   85|0.657917|     jhnsn2273|        51|      1|  120|xbox|         3|\n",
      "|8213060420|   83|0.816447|        sa4741|         3|      1|  120|xbox|         3|\n",
      "|8213060420|  100|1.005903|        sa4741|         3|      1|  120|xbox|         3|\n",
      "|8213060420|  100|1.012697|     jhnsn2273|        51|      1|  120|xbox|         3|\n",
      "|8213060420|  110|1.013056|     jhnsn2273|        51|      1|  120|xbox|         3|\n",
      "+----------+-----+--------+--------------+----------+-------+-----+----+----------+\n",
      "only showing top 20 rows\n",
      "\n"
     ]
    }
   ],
   "source": [
    "df.show()"
   ]
  },
  {
   "cell_type": "code",
   "execution_count": 21,
   "id": "6edf725a-ddf8-48a7-aa5b-ba53f5bdede2",
   "metadata": {},
   "outputs": [
    {
     "name": "stdout",
     "output_type": "stream",
     "text": [
      "root\n",
      " |-- auctionid: string (nullable = true)\n",
      " |-- bid: string (nullable = true)\n",
      " |-- bidtime: string (nullable = true)\n",
      " |-- bidder: string (nullable = true)\n",
      " |-- bidderrate: string (nullable = true)\n",
      " |-- openbid: string (nullable = true)\n",
      " |-- price: string (nullable = true)\n",
      " |-- item: string (nullable = true)\n",
      " |-- daystolive: string (nullable = true)\n",
      "\n"
     ]
    }
   ],
   "source": [
    "df.printSchema()"
   ]
  },
  {
   "cell_type": "code",
   "execution_count": 22,
   "id": "efc537f2-912b-472c-a836-6abe006c420d",
   "metadata": {},
   "outputs": [
    {
     "data": {
      "text/plain": [
       "627"
      ]
     },
     "execution_count": 22,
     "metadata": {},
     "output_type": "execute_result"
    }
   ],
   "source": [
    "df.select(\"auctionid\").distinct().count()"
   ]
  },
  {
   "cell_type": "code",
   "execution_count": 23,
   "id": "87db53af-2a31-43e0-9cfb-ecde08f7259d",
   "metadata": {},
   "outputs": [
    {
     "name": "stdout",
     "output_type": "stream",
     "text": [
      "+----------+-------+-----+\n",
      "| auctionid|   item|count|\n",
      "+----------+-------+-----+\n",
      "|1645883276|cartier|   12|\n",
      "|1641242797|cartier|    5|\n",
      "|1642005995|cartier|   18|\n",
      "|3020060476|   palm|   22|\n",
      "|1644681469|cartier|   14|\n",
      "|8212145833|   xbox|   26|\n",
      "|1638844464|cartier|   16|\n",
      "|3020573049|   palm|    2|\n",
      "|3015632013|   palm|   28|\n",
      "|3024659380|   palm|   26|\n",
      "|3025373736|   palm|   15|\n",
      "|8213387659|   xbox|   25|\n",
      "|1643201832|cartier|    4|\n",
      "|3014834745|   palm|   21|\n",
      "|3020257463|   palm|   16|\n",
      "|3020274575|   palm|   11|\n",
      "|3019821569|   palm|   27|\n",
      "|3024707992|   palm|   20|\n",
      "|8212277835|   xbox|    3|\n",
      "|3019326870|   palm|   33|\n",
      "+----------+-------+-----+\n",
      "only showing top 20 rows\n",
      "\n"
     ]
    }
   ],
   "source": [
    "df.groupBy(\"auctionid\",\"item\").count().show()"
   ]
  },
  {
   "cell_type": "code",
   "execution_count": 24,
   "id": "3e7ebf20-41c9-4870-bfc3-1da8c8fe6000",
   "metadata": {},
   "outputs": [
    {
     "name": "stdout",
     "output_type": "stream",
     "text": [
      "+----------+-----+--------+--------------+----------+-------+-----+----+----------+\n",
      "| auctionid|  bid| bidtime|        bidder|bidderrate|openbid|price|item|daystolive|\n",
      "+----------+-----+--------+--------------+----------+-------+-----+----+----------+\n",
      "|8213034705|   95|2.927373|      jake7870|         0|     95|117.5|xbox|         3|\n",
      "|8213034705|  115|2.943484| davidbresler2|         1|     95|117.5|xbox|         3|\n",
      "|8213034705|  100|2.951285|gladimacowgirl|        58|     95|117.5|xbox|         3|\n",
      "|8213034705|117.5|2.998947|       daysrus|        10|     95|117.5|xbox|         3|\n",
      "|8213060420|    2|0.065266|    donnie4814|         5|      1|  120|xbox|         3|\n",
      "|8213060420|15.25|0.123218|   myreeceyboy|        52|      1|  120|xbox|         3|\n",
      "|8213060420|    3|0.186539|  parakeet2004|         5|      1|  120|xbox|         3|\n",
      "|8213060420|   10| 0.18669|  parakeet2004|         5|      1|  120|xbox|         3|\n",
      "|8213060420|24.99|0.187049|  parakeet2004|         5|      1|  120|xbox|         3|\n",
      "|8213060420|   20|0.249491| bluebubbles_1|        25|      1|  120|xbox|         3|\n",
      "|8213060420|   22| 0.24956| bluebubbles_1|        25|      1|  120|xbox|         3|\n",
      "|8213060420|   24|0.249653| bluebubbles_1|        25|      1|  120|xbox|         3|\n",
      "|8213060420|   26|0.249757| bluebubbles_1|        25|      1|  120|xbox|         3|\n",
      "|8213060420|   80| 0.59059|        sa4741|         3|      1|  120|xbox|         3|\n",
      "|8213060420|   75|0.657384|     jhnsn2273|        51|      1|  120|xbox|         3|\n",
      "|8213060420|   85|0.657917|     jhnsn2273|        51|      1|  120|xbox|         3|\n",
      "|8213060420|   83|0.816447|        sa4741|         3|      1|  120|xbox|         3|\n",
      "|8213060420|  100|1.005903|        sa4741|         3|      1|  120|xbox|         3|\n",
      "|8213060420|  100|1.012697|     jhnsn2273|        51|      1|  120|xbox|         3|\n",
      "|8213060420|  110|1.013056|     jhnsn2273|        51|      1|  120|xbox|         3|\n",
      "+----------+-----+--------+--------------+----------+-------+-----+----+----------+\n",
      "only showing top 20 rows\n",
      "\n"
     ]
    }
   ],
   "source": [
    "highprice = df.filter(\"price > 100\")\n",
    "highprice.show()"
   ]
  },
  {
   "cell_type": "markdown",
   "id": "df3b01d6-77a0-405a-b7e6-ea7bbeab40ee",
   "metadata": {
    "jp-MarkdownHeadingCollapsed": true
   },
   "source": [
    "## Bai tap 3"
   ]
  },
  {
   "cell_type": "code",
   "execution_count": 28,
   "id": "789f74cb-23b7-4f86-b39f-b9bc9a92f25b",
   "metadata": {},
   "outputs": [],
   "source": [
    "df = spark.read.json(\"file:////home/oanh/Downloads/spark-3.5.5-bin-hadoop3/examples/src/main/resources/people.json\")"
   ]
  },
  {
   "cell_type": "code",
   "execution_count": 29,
   "id": "f3e7c54c-95bc-487a-945f-f37a27f39e96",
   "metadata": {},
   "outputs": [],
   "source": [
    "df.createOrReplaceTempView(\"people\")"
   ]
  },
  {
   "cell_type": "code",
   "execution_count": 30,
   "id": "d4da6c33-2fe7-4f04-b9c8-ab0b26af5ec2",
   "metadata": {},
   "outputs": [
    {
     "name": "stdout",
     "output_type": "stream",
     "text": [
      "+----+-------+\n",
      "| age|   name|\n",
      "+----+-------+\n",
      "|NULL|Michael|\n",
      "|  30|   Andy|\n",
      "|  19| Justin|\n",
      "+----+-------+\n",
      "\n"
     ]
    },
    {
     "name": "stderr",
     "output_type": "stream",
     "text": [
      "                                                                                "
     ]
    }
   ],
   "source": [
    "sqlDF = spark.sql(\"select * from people\")\n",
    "sqlDF.show()"
   ]
  },
  {
   "cell_type": "code",
   "execution_count": 31,
   "id": "8aefad19-060f-4315-ae51-6981ffbf1aa2",
   "metadata": {},
   "outputs": [
    {
     "name": "stdout",
     "output_type": "stream",
     "text": [
      "+-------+\n",
      "|   name|\n",
      "+-------+\n",
      "|Michael|\n",
      "|   Andy|\n",
      "| Justin|\n",
      "+-------+\n",
      "\n"
     ]
    }
   ],
   "source": [
    "# d. chon duy nhat 1 cot de hien thi\n",
    "sqlDFd = spark.sql(\"select name from people\")\n",
    "sqlDFd.show()"
   ]
  },
  {
   "cell_type": "code",
   "execution_count": 32,
   "id": "be04ddba-2fd5-4f8a-aa07-4272c5ffde84",
   "metadata": {},
   "outputs": [
    {
     "name": "stdout",
     "output_type": "stream",
     "text": [
      "+-------+---------+\n",
      "|   name|(age + 1)|\n",
      "+-------+---------+\n",
      "|Michael|     NULL|\n",
      "|   Andy|       31|\n",
      "| Justin|       20|\n",
      "+-------+---------+\n",
      "\n"
     ]
    }
   ],
   "source": [
    "# e. hien thi toan bo cac cot gia tri cua cot age tang them 1\n",
    "sqlDFe = spark.sql(\"select name, age + 1 from people\")\n",
    "sqlDFe.show()"
   ]
  },
  {
   "cell_type": "code",
   "execution_count": 33,
   "id": "aebc6ade-3cb5-4f26-97a1-0ec47565197e",
   "metadata": {},
   "outputs": [
    {
     "name": "stdout",
     "output_type": "stream",
     "text": [
      "+---+----+\n",
      "|age|name|\n",
      "+---+----+\n",
      "| 30|Andy|\n",
      "+---+----+\n",
      "\n"
     ]
    }
   ],
   "source": [
    "# f. loc ra nhung nguoi co tuoi lon hon 21\n",
    "sqlDFf = spark.sql(\"select * from people where age > 21\")\n",
    "sqlDFf.show()"
   ]
  },
  {
   "cell_type": "code",
   "execution_count": 34,
   "id": "613072c8-d640-4b7a-8897-8beaa0b627b4",
   "metadata": {},
   "outputs": [
    {
     "name": "stdout",
     "output_type": "stream",
     "text": [
      "+----+--------+\n",
      "| age|count(1)|\n",
      "+----+--------+\n",
      "|  19|       1|\n",
      "|NULL|       1|\n",
      "|  30|       1|\n",
      "+----+--------+\n",
      "\n"
     ]
    }
   ],
   "source": [
    "# g. dem so nguoi theo tung do tuoi\n",
    "sqlDFg = spark.sql(\"select age, count(*) from people group by age\")\n",
    "sqlDFg.show()"
   ]
  },
  {
   "cell_type": "markdown",
   "id": "80a4325a-f9aa-4182-86cf-e35bc3f7246c",
   "metadata": {
    "jp-MarkdownHeadingCollapsed": true
   },
   "source": [
    "## Bai tap 4"
   ]
  },
  {
   "cell_type": "code",
   "execution_count": 35,
   "id": "3e4e7a0d-2b52-420f-bf59-5051d96dcaef",
   "metadata": {},
   "outputs": [],
   "source": [
    "df = spark.read.format(\"csv\").option(\"header\",\"true\").load(\"file:////home/oanh/Lab4/Đính kèm-20250417T011426Z-001/Đính kèm/ebay.csv\")"
   ]
  },
  {
   "cell_type": "code",
   "execution_count": 36,
   "id": "a7a85738-7454-4c4c-bdeb-3350ed0de6c2",
   "metadata": {},
   "outputs": [],
   "source": [
    "# a. tao khung nhin tam tu dataframe df\n",
    "df.createOrReplaceTempView(\"ebay\")"
   ]
  },
  {
   "cell_type": "code",
   "execution_count": 37,
   "id": "e9aaa1a4-dcc4-473c-b42a-b239046dfe88",
   "metadata": {},
   "outputs": [
    {
     "name": "stdout",
     "output_type": "stream",
     "text": [
      "+----------+-----+--------+--------------+----------+-------+-----+----+----------+\n",
      "| auctionid|  bid| bidtime|        bidder|bidderrate|openbid|price|item|daystolive|\n",
      "+----------+-----+--------+--------------+----------+-------+-----+----+----------+\n",
      "|8213034705|   95|2.927373|      jake7870|         0|     95|117.5|xbox|         3|\n",
      "|8213034705|  115|2.943484| davidbresler2|         1|     95|117.5|xbox|         3|\n",
      "|8213034705|  100|2.951285|gladimacowgirl|        58|     95|117.5|xbox|         3|\n",
      "|8213034705|117.5|2.998947|       daysrus|        10|     95|117.5|xbox|         3|\n",
      "|8213060420|    2|0.065266|    donnie4814|         5|      1|  120|xbox|         3|\n",
      "|8213060420|15.25|0.123218|   myreeceyboy|        52|      1|  120|xbox|         3|\n",
      "|8213060420|    3|0.186539|  parakeet2004|         5|      1|  120|xbox|         3|\n",
      "|8213060420|   10| 0.18669|  parakeet2004|         5|      1|  120|xbox|         3|\n",
      "|8213060420|24.99|0.187049|  parakeet2004|         5|      1|  120|xbox|         3|\n",
      "|8213060420|   20|0.249491| bluebubbles_1|        25|      1|  120|xbox|         3|\n",
      "|8213060420|   22| 0.24956| bluebubbles_1|        25|      1|  120|xbox|         3|\n",
      "|8213060420|   24|0.249653| bluebubbles_1|        25|      1|  120|xbox|         3|\n",
      "|8213060420|   26|0.249757| bluebubbles_1|        25|      1|  120|xbox|         3|\n",
      "|8213060420|   80| 0.59059|        sa4741|         3|      1|  120|xbox|         3|\n",
      "|8213060420|   75|0.657384|     jhnsn2273|        51|      1|  120|xbox|         3|\n",
      "|8213060420|   85|0.657917|     jhnsn2273|        51|      1|  120|xbox|         3|\n",
      "|8213060420|   83|0.816447|        sa4741|         3|      1|  120|xbox|         3|\n",
      "|8213060420|  100|1.005903|        sa4741|         3|      1|  120|xbox|         3|\n",
      "|8213060420|  100|1.012697|     jhnsn2273|        51|      1|  120|xbox|         3|\n",
      "|8213060420|  110|1.013056|     jhnsn2273|        51|      1|  120|xbox|         3|\n",
      "+----------+-----+--------+--------------+----------+-------+-----+----+----------+\n",
      "only showing top 20 rows\n",
      "\n"
     ]
    }
   ],
   "source": [
    "sqlDF = spark.sql(\"select * from ebay\")\n",
    "sqlDF.show()"
   ]
  },
  {
   "cell_type": "code",
   "execution_count": 40,
   "id": "a2c0b048-3baa-4f0c-8a0d-05bd22e47051",
   "metadata": {},
   "outputs": [
    {
     "name": "stdout",
     "output_type": "stream",
     "text": [
      "+--------------+\n",
      "|total_auctions|\n",
      "+--------------+\n",
      "|           627|\n",
      "+--------------+\n",
      "\n"
     ]
    }
   ],
   "source": [
    "# d. dem so cuoc dau gia da duoc to chuc bang cau lenh\n",
    "sqlDFd = spark.sql(\"SELECT COUNT(DISTINCT auctionid) as total_auctions FROM ebay\")\n",
    "sqlDFd.show()"
   ]
  },
  {
   "cell_type": "code",
   "execution_count": 46,
   "id": "254fb8b7-bb4b-4c03-9d58-3e65807062ee",
   "metadata": {},
   "outputs": [
    {
     "name": "stderr",
     "output_type": "stream",
     "text": [
      "[Stage 44:>                                                         (0 + 1) / 1]"
     ]
    },
    {
     "name": "stdout",
     "output_type": "stream",
     "text": [
      "+----------+-------+-----+\n",
      "| auctionid|   item|count|\n",
      "+----------+-------+-----+\n",
      "|1645883276|cartier|   12|\n",
      "|1641242797|cartier|    5|\n",
      "|1642005995|cartier|   18|\n",
      "|3020060476|   palm|   22|\n",
      "|1644681469|cartier|   14|\n",
      "|8212145833|   xbox|   26|\n",
      "|1638844464|cartier|   16|\n",
      "|3020573049|   palm|    2|\n",
      "|3015632013|   palm|   28|\n",
      "|3024659380|   palm|   26|\n",
      "|3025373736|   palm|   15|\n",
      "|8213387659|   xbox|   25|\n",
      "|1643201832|cartier|    4|\n",
      "|3014834745|   palm|   21|\n",
      "|3020257463|   palm|   16|\n",
      "|3020274575|   palm|   11|\n",
      "|3019821569|   palm|   27|\n",
      "|3024707992|   palm|   20|\n",
      "|8212277835|   xbox|    3|\n",
      "|3019326870|   palm|   33|\n",
      "+----------+-------+-----+\n",
      "only showing top 20 rows\n",
      "\n"
     ]
    },
    {
     "name": "stderr",
     "output_type": "stream",
     "text": [
      "                                                                                "
     ]
    }
   ],
   "source": [
    "# e. dem so luong gia dau tren moi mat hang\n",
    "sqlDFe = spark.sql(\"select auctionid, item, COUNT(*) AS count from ebay group by auctionid, item\")\n",
    "sqlDFe.show()"
   ]
  },
  {
   "cell_type": "code",
   "execution_count": 48,
   "id": "0e645ff8-fdfb-43e5-9f02-4cf4011ea13f",
   "metadata": {},
   "outputs": [
    {
     "name": "stdout",
     "output_type": "stream",
     "text": [
      "+----------+-----+--------+--------------+----------+-------+-----+----+----------+\n",
      "| auctionid|  bid| bidtime|        bidder|bidderrate|openbid|price|item|daystolive|\n",
      "+----------+-----+--------+--------------+----------+-------+-----+----+----------+\n",
      "|8213034705|   95|2.927373|      jake7870|         0|     95|117.5|xbox|         3|\n",
      "|8213034705|  115|2.943484| davidbresler2|         1|     95|117.5|xbox|         3|\n",
      "|8213034705|  100|2.951285|gladimacowgirl|        58|     95|117.5|xbox|         3|\n",
      "|8213034705|117.5|2.998947|       daysrus|        10|     95|117.5|xbox|         3|\n",
      "|8213060420|    2|0.065266|    donnie4814|         5|      1|  120|xbox|         3|\n",
      "|8213060420|15.25|0.123218|   myreeceyboy|        52|      1|  120|xbox|         3|\n",
      "|8213060420|    3|0.186539|  parakeet2004|         5|      1|  120|xbox|         3|\n",
      "|8213060420|   10| 0.18669|  parakeet2004|         5|      1|  120|xbox|         3|\n",
      "|8213060420|24.99|0.187049|  parakeet2004|         5|      1|  120|xbox|         3|\n",
      "|8213060420|   20|0.249491| bluebubbles_1|        25|      1|  120|xbox|         3|\n",
      "|8213060420|   22| 0.24956| bluebubbles_1|        25|      1|  120|xbox|         3|\n",
      "|8213060420|   24|0.249653| bluebubbles_1|        25|      1|  120|xbox|         3|\n",
      "|8213060420|   26|0.249757| bluebubbles_1|        25|      1|  120|xbox|         3|\n",
      "|8213060420|   80| 0.59059|        sa4741|         3|      1|  120|xbox|         3|\n",
      "|8213060420|   75|0.657384|     jhnsn2273|        51|      1|  120|xbox|         3|\n",
      "|8213060420|   85|0.657917|     jhnsn2273|        51|      1|  120|xbox|         3|\n",
      "|8213060420|   83|0.816447|        sa4741|         3|      1|  120|xbox|         3|\n",
      "|8213060420|  100|1.005903|        sa4741|         3|      1|  120|xbox|         3|\n",
      "|8213060420|  100|1.012697|     jhnsn2273|        51|      1|  120|xbox|         3|\n",
      "|8213060420|  110|1.013056|     jhnsn2273|        51|      1|  120|xbox|         3|\n",
      "+----------+-----+--------+--------------+----------+-------+-----+----+----------+\n",
      "only showing top 20 rows\n",
      "\n"
     ]
    }
   ],
   "source": [
    "# f. loc va hien thi tat ca nhung phien dau gia co gia tri dong cua lon hon 100\n",
    "sqlDFe = spark.sql(\"select * from ebay where price > 100\")\n",
    "sqlDFe.show()"
   ]
  },
  {
   "cell_type": "markdown",
   "id": "73b7f37e-8f94-4ed3-86a3-2138747ccf1c",
   "metadata": {
    "jp-MarkdownHeadingCollapsed": true
   },
   "source": [
    "# TH5"
   ]
  },
  {
   "cell_type": "markdown",
   "id": "6150146a-0f79-4e1e-8e41-fb530bbb4bd3",
   "metadata": {},
   "source": [
    "## Bai tap 1"
   ]
  },
  {
   "cell_type": "code",
   "execution_count": 12,
   "id": "491fdc60-9b8e-481d-8eaa-83e12bb5472f",
   "metadata": {},
   "outputs": [],
   "source": [
    "# Doc du lieu dau vao\n",
    "from pyspark.sql import SparkSession\n",
    "\n",
    "spark = SparkSession.builder \\\n",
    "    .appName(\"GeoDataAnalysis\") \\\n",
    "    .getOrCreate()\n",
    "\n",
    "spark.sparkContext.setLogLevel(\"ERROR\")  # Giảm log cảnh báo"
   ]
  },
  {
   "cell_type": "code",
   "execution_count": 13,
   "id": "4c4375b8-8f7d-4f7f-af1e-122ead85d939",
   "metadata": {},
   "outputs": [
    {
     "name": "stderr",
     "output_type": "stream",
     "text": [
      "                                                                                "
     ]
    },
    {
     "data": {
      "text/plain": [
       "294"
      ]
     },
     "execution_count": 13,
     "metadata": {},
     "output_type": "execute_result"
    }
   ],
   "source": [
    "data = spark.read.format(\"csv\") \\\n",
    "    .option(\"header\", \"true\") \\\n",
    "    .option(\"inferSchema\", \"true\") \\\n",
    "    .load(\"file:////home/oanh/Lab4/Đính kèm-20250417T011426Z-001/Đính kèm/data_geo.csv\")  \n",
    "\n",
    "data.cache()\n",
    "data.count()"
   ]
  },
  {
   "cell_type": "code",
   "execution_count": 14,
   "id": "e3973698-9d19-4e41-a17d-714299e7c7fc",
   "metadata": {},
   "outputs": [
    {
     "name": "stdout",
     "output_type": "stream",
     "text": [
      "root\n",
      " |-- 2014 rank: integer (nullable = true)\n",
      " |-- City: string (nullable = true)\n",
      " |-- State: string (nullable = true)\n",
      " |-- State Code: string (nullable = true)\n",
      " |-- 2014 Population estimate: integer (nullable = true)\n",
      " |-- 2015 median sales price: double (nullable = true)\n",
      "\n",
      "+---------+-------------+-------+----------+------------------------+-----------------------+\n",
      "|2014 rank|         City|  State|State Code|2014 Population estimate|2015 median sales price|\n",
      "+---------+-------------+-------+----------+------------------------+-----------------------+\n",
      "|      101|   Birmingham|Alabama|        AL|                  212247|                  162.9|\n",
      "|      125|   Huntsville|Alabama|        AL|                  188226|                  157.7|\n",
      "|      122|       Mobile|Alabama|        AL|                  194675|                  122.5|\n",
      "|      114|   Montgomery|Alabama|        AL|                  200481|                  129.0|\n",
      "|       64|Anchorage[19]| Alaska|        AK|                  301010|                   NULL|\n",
      "+---------+-------------+-------+----------+------------------------+-----------------------+\n",
      "only showing top 5 rows\n",
      "\n"
     ]
    }
   ],
   "source": [
    "data.printSchema()\n",
    "data.show(5)"
   ]
  },
  {
   "cell_type": "code",
   "execution_count": 15,
   "id": "73ea259b-4eed-469e-aa4a-121caed6a6c1",
   "metadata": {},
   "outputs": [
    {
     "data": {
      "text/plain": [
       "109"
      ]
     },
     "execution_count": 15,
     "metadata": {},
     "output_type": "execute_result"
    }
   ],
   "source": [
    "# Loai bo gia tri trong\n",
    "data = data.dropna()\n",
    "data.count()"
   ]
  },
  {
   "cell_type": "code",
   "execution_count": 16,
   "id": "7b372299-1335-4306-b6b0-1010d570b5ca",
   "metadata": {},
   "outputs": [
    {
     "name": "stdout",
     "output_type": "stream",
     "text": [
      "+----------+----------+-----------------+-----------------------+\n",
      "|      City|State Code|2014 Pop estimate|2015 median sales price|\n",
      "+----------+----------+-----------------+-----------------------+\n",
      "|Birmingham|        AL|          212.247|                  162.9|\n",
      "|Huntsville|        AL|          188.226|                  157.7|\n",
      "|    Mobile|        AL|          194.675|                  122.5|\n",
      "|Montgomery|        AL|          200.481|                  129.0|\n",
      "|   Phoenix|        AZ|         1537.058|                  206.1|\n",
      "+----------+----------+-----------------+-----------------------+\n",
      "only showing top 5 rows\n",
      "\n"
     ]
    }
   ],
   "source": [
    "# Tao view de truy van\n",
    "data.createOrReplaceTempView(\"data_geo\")\n",
    "\n",
    "df1 = spark.sql(\"\"\"\n",
    "SELECT City, `State Code`, `2014 Population estimate` / 1000 AS `2014 Pop estimate`,\n",
    "       `2015 median sales price`\n",
    "FROM data_geo\n",
    "\"\"\")\n",
    "\n",
    "df1.show(5)"
   ]
  },
  {
   "cell_type": "code",
   "execution_count": 17,
   "id": "6a36486f-71a4-40b4-932c-a625fc89c991",
   "metadata": {},
   "outputs": [
    {
     "name": "stderr",
     "output_type": "stream",
     "text": [
      "                                                                                "
     ]
    },
    {
     "name": "stdout",
     "output_type": "stream",
     "text": [
      "+-----------+-----+\n",
      "|   features|label|\n",
      "+-----------+-----+\n",
      "| [212247.0]|162.9|\n",
      "| [188226.0]|157.7|\n",
      "| [194675.0]|122.5|\n",
      "| [200481.0]|129.0|\n",
      "|[1537058.0]|206.1|\n",
      "+-----------+-----+\n",
      "only showing top 5 rows\n",
      "\n"
     ]
    },
    {
     "name": "stderr",
     "output_type": "stream",
     "text": [
      "                                                                                "
     ]
    }
   ],
   "source": [
    "# Tien xu ly du lieu\n",
    "from pyspark.mllib.regression import LabeledPoint\n",
    "\n",
    "rdd = data.select(\"2014 Population estimate\", \"2015 median sales price\") \\\n",
    "    .rdd.map(lambda r: LabeledPoint(r[1], [r[0]]))\n",
    "\n",
    "df_mllib = rdd.toDF()\n",
    "df_mllib.show(5)"
   ]
  },
  {
   "cell_type": "code",
   "execution_count": 20,
   "id": "fd06ed79-6dd1-43db-9dad-97fefe7b7ec3",
   "metadata": {},
   "outputs": [
    {
     "name": "stderr",
     "output_type": "stream",
     "text": [
      "                                                                                "
     ]
    },
    {
     "data": {
      "image/png": "[encoded data removed]",
      "text/plain": [
       "<Figure size 1000x600 with 1 Axes>"
      ]
     },
     "metadata": {},
     "output_type": "display_data"
    }
   ],
   "source": [
    "# Truc quan hoa du lieu\n",
    "import matplotlib.pyplot as plt\n",
    "from pandas import DataFrame\n",
    "\n",
    "x = df_mllib.rdd.map(lambda p: p.features[0]).collect()\n",
    "y = df_mllib.rdd.map(lambda p: p.label).collect()\n",
    "\n",
    "pydf = DataFrame({'Population': x, 'Price': y})\n",
    "\n",
    "plt.figure(figsize=(10, 6))\n",
    "plt.scatter(pydf['Population'], pydf['Price'], color='blue', alpha=0.5)\n",
    "plt.title('Population vs. Median Sales Price')\n",
    "plt.xlabel('2014 Population Estimate')\n",
    "plt.ylabel('2015 Median Sales Price')\n",
    "plt.grid(True)\n",
    "plt.show()\n"
   ]
  },
  {
   "cell_type": "markdown",
   "id": "ab6c3af6-b260-482c-a170-1c2ca30d7d84",
   "metadata": {},
   "source": [
    "## Bai tap 2"
   ]
  },
  {
   "cell_type": "code",
   "execution_count": 21,
   "id": "f86d3215-0612-4567-b09d-1106a9485a46",
   "metadata": {},
   "outputs": [],
   "source": [
    "from pyspark.ml.regression import LinearRegression"
   ]
  },
  {
   "cell_type": "code",
   "execution_count": 24,
   "id": "91adc891-d613-48cd-b033-5b171abc3532",
   "metadata": {},
   "outputs": [
    {
     "name": "stderr",
     "output_type": "stream",
     "text": [
      "                                                                                "
     ]
    },
    {
     "name": "stdout",
     "output_type": "stream",
     "text": [
      "+-----+-----------+\n",
      "|label|   features|\n",
      "+-----+-----------+\n",
      "|162.9| [212247.0]|\n",
      "|157.7| [188226.0]|\n",
      "|122.5| [194675.0]|\n",
      "|129.0| [200481.0]|\n",
      "|206.1|[1537058.0]|\n",
      "+-----+-----------+\n",
      "only showing top 5 rows\n",
      "\n"
     ]
    },
    {
     "name": "stderr",
     "output_type": "stream",
     "text": [
      "                                                                                "
     ]
    }
   ],
   "source": [
    "from pyspark.ml.linalg import Vectors\n",
    "from pyspark.sql.functions import col\n",
    "from pyspark.sql import Row\n",
    "\n",
    "# Chuyển đổi dữ liệu từ df_mllib (đã tạo ở bài 1) sang định dạng cần thiết\n",
    "df_ml = df_mllib.rdd.map(lambda lp: Row(label=lp.label, features=Vectors.dense(lp.features))) \\\n",
    "    .toDF()\n",
    "\n",
    "df_ml.show(5)"
   ]
  },
  {
   "cell_type": "code",
   "execution_count": 25,
   "id": "be544a0a-4908-4d80-a30a-1defeee135a9",
   "metadata": {},
   "outputs": [],
   "source": [
    "lr = LinearRegression()"
   ]
  },
  {
   "cell_type": "code",
   "execution_count": 26,
   "id": "ea2e6787-5123-409e-922f-54317d857488",
   "metadata": {},
   "outputs": [
    {
     "name": "stderr",
     "output_type": "stream",
     "text": [
      "                                                                                "
     ]
    }
   ],
   "source": [
    "modelA = lr.fit(df_ml,{lr.regParam:0.0})\n",
    "modelB = lr.fit(df_ml,{lr.regParam:100.0})"
   ]
  },
  {
   "cell_type": "code",
   "execution_count": 27,
   "id": "66603a33-56d5-44cf-8ea4-426e8a8df8c5",
   "metadata": {},
   "outputs": [
    {
     "name": "stdout",
     "output_type": "stream",
     "text": [
      ">>>> ModelA intercept: 191.29427575139394, coefficient: 3.779789682338248e-05\n",
      ">>>> ModelB intercept: 199.85112564667153, coefficient: 2.1603499483717156e-05\n"
     ]
    }
   ],
   "source": [
    "print(\">>>> ModelA intercept: {}, coefficient: {}\".format(modelA.intercept, modelA.coefficients[0]))\n",
    "print(\">>>> ModelB intercept: {}, coefficient: {}\".format(modelB.intercept, modelB.coefficients[0]))"
   ]
  },
  {
   "cell_type": "code",
   "execution_count": 28,
   "id": "80f5186d-5461-4000-bac0-99a71f166017",
   "metadata": {},
   "outputs": [
    {
     "name": "stdout",
     "output_type": "stream",
     "text": [
      "+-----+-----------+------------------+\n",
      "|label|   features|        prediction|\n",
      "+-----+-----------+------------------+\n",
      "|162.9| [212247.0]| 199.3167659584664|\n",
      "|157.7| [188226.0]|198.40882267887193|\n",
      "|122.5| [194675.0]|198.65258131548592|\n",
      "|129.0| [200481.0]|198.87203590444247|\n",
      "|206.1|[1537058.0]|249.39183544694856|\n",
      "+-----+-----------+------------------+\n",
      "only showing top 5 rows\n",
      "\n"
     ]
    },
    {
     "name": "stderr",
     "output_type": "stream",
     "text": [
      "[Stage 36:>                                                         (0 + 1) / 1]"
     ]
    },
    {
     "name": "stdout",
     "output_type": "stream",
     "text": [
      "+-----+-----------+------------------+\n",
      "|label|   features|        prediction|\n",
      "+-----+-----------+------------------+\n",
      "|162.9| [212247.0]|204.43640360159205|\n",
      "|157.7| [188226.0]|203.91746594049368|\n",
      "|122.5| [194675.0]|204.05678690866418|\n",
      "|129.0| [200481.0]|204.18221682666663|\n",
      "|206.1|[1537058.0]|233.05695735611485|\n",
      "+-----+-----------+------------------+\n",
      "only showing top 5 rows\n",
      "\n"
     ]
    },
    {
     "name": "stderr",
     "output_type": "stream",
     "text": [
      "                                                                                "
     ]
    }
   ],
   "source": [
    "predictionsA = modelA.transform(df_ml)\n",
    "predictionsA.show(5)\n",
    "\n",
    "predictionsB = modelB.transform(df_ml)\n",
    "predictionsB.show(5)"
   ]
  },
  {
   "cell_type": "markdown",
   "id": "ec27a9a8-c776-4471-9cbb-fc3c5cdbcba3",
   "metadata": {},
   "source": [
    "## Bai tap 3"
   ]
  },
  {
   "cell_type": "code",
   "execution_count": 29,
   "id": "4a6ba0fd-2834-4816-b62d-b67f9fbc7e4b",
   "metadata": {},
   "outputs": [
    {
     "name": "stderr",
     "output_type": "stream",
     "text": [
      "                                                                                "
     ]
    },
    {
     "name": "stdout",
     "output_type": "stream",
     "text": [
      "ModelA: Root Mean Squared Error = 128.602\n",
      "ModelB: Root Mean Squared Error = 129.496\n"
     ]
    }
   ],
   "source": [
    "from pyspark.ml.evaluation import RegressionEvaluator\n",
    "\n",
    "# Dùng chỉ số RMSE để đánh giá\n",
    "evaluator = RegressionEvaluator(metricName=\"rmse\")\n",
    "\n",
    "RMSEA = evaluator.evaluate(predictionsA)\n",
    "print(\"ModelA: Root Mean Squared Error = {:.3f}\".format(RMSEA))\n",
    "\n",
    "RMSEB = evaluator.evaluate(predictionsB)\n",
    "print(\"ModelB: Root Mean Squared Error = {:.3f}\".format(RMSEB))"
   ]
  },
  {
   "cell_type": "markdown",
   "id": "2f0aca62-2662-46e5-b2ea-9ca601184294",
   "metadata": {},
   "source": [
    "## Bai tap 4"
   ]
  },
  {
   "cell_type": "code",
   "execution_count": 32,
   "id": "cf03cbd2-e2be-43d6-b8a0-f1689610764e",
   "metadata": {},
   "outputs": [],
   "source": [
    "import matplotlib.pyplot as plt\n",
    "import seaborn as sns\n",
    "import pandas as pd"
   ]
  },
  {
   "cell_type": "code",
   "execution_count": 33,
   "id": "d249b0ca-be38-4c29-b372-f09244e60e96",
   "metadata": {},
   "outputs": [
    {
     "name": "stderr",
     "output_type": "stream",
     "text": [
      "                                                                                "
     ]
    }
   ],
   "source": [
    "pop = df_mllib.rdd.map(lambda p: p.features[0]).collect()\n",
    "price = df_mllib.rdd.map(lambda p: p.label).collect()\n",
    "predA = predictionsA.select(\"prediction\").rdd.map(lambda r: r[0]).collect()\n",
    "predB = predictionsB.select(\"prediction\").rdd.map(lambda r: r[0]).collect()\n",
    "\n",
    "pydf = pd.DataFrame({\n",
    "    'pop': pop,\n",
    "    'price': price,\n",
    "    'predA': predA,\n",
    "    'predB': predB\n",
    "})"
   ]
  },
  {
   "cell_type": "code",
   "execution_count": 34,
   "id": "9cd05682-3381-4e4a-be1e-07205d60806b",
   "metadata": {},
   "outputs": [
    {
     "data": {
      "image/png": "[encoded data removed]",
      "text/plain": [
       "<Figure size 1000x600 with 1 Axes>"
      ]
     },
     "metadata": {},
     "output_type": "display_data"
    }
   ],
   "source": [
    "# Truc quan ket qua\n",
    "plt.figure(figsize=(10, 6))\n",
    "\n",
    "sns.scatterplot(x='pop', y='price', data=pydf, color='blue', label='Giá thực tế')\n",
    "sns.lineplot(x='pop', y='predA', data=pydf, color='red', label='Model A')\n",
    "sns.lineplot(x='pop', y='predB', data=pydf, color='green', label='Model B')\n",
    "\n",
    "plt.xscale('log')\n",
    "\n",
    "plt.title('Giá bán theo dân số (2014)', fontsize=14)\n",
    "plt.xlabel('Dân số (nghìn người)', fontsize=12)\n",
    "plt.ylabel('Giá bán trung vị (USD)', fontsize=12)\n",
    "plt.legend()\n",
    "plt.grid(True)\n",
    "plt.show()"
   ]
  },
  {
   "cell_type": "markdown",
   "id": "6f34710f-bb99-44c4-a1b8-b471a797a324",
   "metadata": {},
   "source": [
    "# TH6"
   ]
  },
  {
   "cell_type": "markdown",
   "id": "0f914d67-e312-4c83-9428-70421cefb703",
   "metadata": {
    "jp-MarkdownHeadingCollapsed": true
   },
   "source": [
    "## SparkMLlib_DecisionTree"
   ]
  },
  {
   "cell_type": "code",
   "execution_count": 35,
   "id": "791f325e-dfb4-4018-ac43-2ad65b99f71d",
   "metadata": {},
   "outputs": [],
   "source": [
    "from pyspark.sql import SparkSession\n",
    "spark = SparkSession.builder.master(\"local[*]\").appName(\"SparkMLLib_DecisionTree\").getOrCreate()"
   ]
  },
  {
   "cell_type": "code",
   "execution_count": 37,
   "id": "89b9cef8-7e3a-47f9-ad6c-cda52a29cf89",
   "metadata": {},
   "outputs": [
    {
     "name": "stderr",
     "output_type": "stream",
     "text": [
      "                                                                                "
     ]
    },
    {
     "name": "stdout",
     "output_type": "stream",
     "text": [
      "+-----+--------------------+\n",
      "|label|            features|\n",
      "+-----+--------------------+\n",
      "|  0.0|(692,[127,128,129...|\n",
      "|  1.0|(692,[158,159,160...|\n",
      "|  1.0|(692,[124,125,126...|\n",
      "|  1.0|(692,[152,153,154...|\n",
      "|  1.0|(692,[151,152,153...|\n",
      "|  0.0|(692,[129,130,131...|\n",
      "|  1.0|(692,[158,159,160...|\n",
      "|  1.0|(692,[99,100,101,...|\n",
      "|  0.0|(692,[154,155,156...|\n",
      "|  0.0|(692,[127,128,129...|\n",
      "|  1.0|(692,[154,155,156...|\n",
      "|  0.0|(692,[153,154,155...|\n",
      "|  0.0|(692,[151,152,153...|\n",
      "|  1.0|(692,[129,130,131...|\n",
      "|  0.0|(692,[154,155,156...|\n",
      "|  1.0|(692,[150,151,152...|\n",
      "|  0.0|(692,[124,125,126...|\n",
      "|  0.0|(692,[152,153,154...|\n",
      "|  1.0|(692,[97,98,99,12...|\n",
      "|  1.0|(692,[124,125,126...|\n",
      "+-----+--------------------+\n",
      "only showing top 20 rows\n",
      "\n"
     ]
    },
    {
     "data": {
      "text/plain": [
       "100"
      ]
     },
     "execution_count": 37,
     "metadata": {},
     "output_type": "execute_result"
    }
   ],
   "source": [
    "from __future__ import print_function\n",
    "\n",
    "from pyspark.ml import Pipeline\n",
    "from pyspark.ml.classification import DecisionTreeClassifier\n",
    "from pyspark.ml.feature import StringIndexer, VectorIndexer\n",
    "from pyspark.ml.evaluation import MulticlassClassificationEvaluator\n",
    "\n",
    "# Load the data stored in LIBSVM format as a DataFrame.\n",
    "data = spark.read.format(\"libsvm\").load(\"file:////home/oanh/Downloads/spark-3.5.5-bin-hadoop3/data/mllib/sample_libsvm_data.txt\")\n",
    "\n",
    "data.show()\n",
    "\n",
    "data.count()"
   ]
  },
  {
   "cell_type": "code",
   "execution_count": 38,
   "id": "63534aa3-488a-4896-be8b-e47edac4d95b",
   "metadata": {},
   "outputs": [
    {
     "name": "stderr",
     "output_type": "stream",
     "text": [
      "                                                                                "
     ]
    }
   ],
   "source": [
    "# Index labels, adding metadata to the label column.\n",
    "# Fit on whole dataset to include all labels in index.\n",
    "labelIndexer = StringIndexer(inputCol=\"label\", outputCol=\"indexedLabel\").fit(data)\n",
    "\n",
    "# Automatically identify categorical features, and index them.\n",
    "# We specify maxCategories so features with > 4 distinct values are treated as continuous.\n",
    "featureIndexer = VectorIndexer(inputCol=\"features\", outputCol=\"indexedFeatures\", maxCategories=4).fit(data)"
   ]
  },
  {
   "cell_type": "code",
   "execution_count": 39,
   "id": "be1df605-9802-4db7-b383-cceb6637f943",
   "metadata": {},
   "outputs": [
    {
     "name": "stdout",
     "output_type": "stream",
     "text": [
      "+-----+--------------------+\n",
      "|label|            features|\n",
      "+-----+--------------------+\n",
      "|  0.0|(692,[127,128,129...|\n",
      "|  1.0|(692,[158,159,160...|\n",
      "|  1.0|(692,[124,125,126...|\n",
      "|  1.0|(692,[152,153,154...|\n",
      "|  1.0|(692,[151,152,153...|\n",
      "|  0.0|(692,[129,130,131...|\n",
      "|  1.0|(692,[158,159,160...|\n",
      "|  1.0|(692,[99,100,101,...|\n",
      "|  0.0|(692,[154,155,156...|\n",
      "|  0.0|(692,[127,128,129...|\n",
      "|  1.0|(692,[154,155,156...|\n",
      "|  0.0|(692,[153,154,155...|\n",
      "|  0.0|(692,[151,152,153...|\n",
      "|  1.0|(692,[129,130,131...|\n",
      "|  0.0|(692,[154,155,156...|\n",
      "|  1.0|(692,[150,151,152...|\n",
      "|  0.0|(692,[124,125,126...|\n",
      "|  0.0|(692,[152,153,154...|\n",
      "|  1.0|(692,[97,98,99,12...|\n",
      "|  1.0|(692,[124,125,126...|\n",
      "+-----+--------------------+\n",
      "only showing top 20 rows\n",
      "\n"
     ]
    },
    {
     "data": {
      "text/plain": [
       "100"
      ]
     },
     "execution_count": 39,
     "metadata": {},
     "output_type": "execute_result"
    }
   ],
   "source": [
    "data.show()\n",
    "\n",
    "data.count()"
   ]
  },
  {
   "cell_type": "code",
   "execution_count": 40,
   "id": "a79898f4-5f03-4ad6-a44f-0742d692e4a9",
   "metadata": {},
   "outputs": [
    {
     "name": "stderr",
     "output_type": "stream",
     "text": [
      "                                                                                "
     ]
    }
   ],
   "source": [
    "# Split the data into training and test sets (30% held out for testing)\n",
    "(trainingData, testData) = data.randomSplit([0.7, 0.3])\n",
    "\n",
    "# Train a DecisionTree model.\n",
    "dt = DecisionTreeClassifier(labelCol=\"indexedLabel\", featuresCol=\"indexedFeatures\")\n",
    "\n",
    "# Chain indexers and tree in a Pipeline\n",
    "pipeline = Pipeline(stages=[labelIndexer, featureIndexer, dt])\n",
    "\n",
    "# Train model.  This also runs the indexers.\n",
    "model = pipeline.fit(trainingData)"
   ]
  },
  {
   "cell_type": "code",
   "execution_count": 41,
   "id": "73a2c44a-8c16-49de-8bac-70244f1082b8",
   "metadata": {},
   "outputs": [
    {
     "name": "stdout",
     "output_type": "stream",
     "text": [
      "+----------+------------+--------------------+\n",
      "|prediction|indexedLabel|            features|\n",
      "+----------+------------+--------------------+\n",
      "|       1.0|         1.0|(692,[98,99,100,1...|\n",
      "|       1.0|         1.0|(692,[123,124,125...|\n",
      "|       1.0|         1.0|(692,[124,125,126...|\n",
      "|       1.0|         1.0|(692,[126,127,128...|\n",
      "|       1.0|         1.0|(692,[126,127,128...|\n",
      "|       1.0|         1.0|(692,[126,127,128...|\n",
      "|       1.0|         1.0|(692,[126,127,128...|\n",
      "|       1.0|         1.0|(692,[128,129,130...|\n",
      "|       1.0|         1.0|(692,[152,153,154...|\n",
      "|       1.0|         1.0|(692,[152,153,154...|\n",
      "|       1.0|         1.0|(692,[153,154,155...|\n",
      "|       1.0|         1.0|(692,[154,155,156...|\n",
      "|       1.0|         1.0|(692,[234,235,237...|\n",
      "|       1.0|         0.0|(692,[99,100,101,...|\n",
      "|       0.0|         0.0|(692,[123,124,125...|\n",
      "|       0.0|         0.0|(692,[123,124,125...|\n",
      "|       0.0|         0.0|(692,[123,124,125...|\n",
      "|       0.0|         0.0|(692,[124,125,126...|\n",
      "|       0.0|         0.0|(692,[124,125,126...|\n",
      "|       0.0|         0.0|(692,[124,125,126...|\n",
      "+----------+------------+--------------------+\n",
      "only showing top 20 rows\n",
      "\n"
     ]
    },
    {
     "name": "stderr",
     "output_type": "stream",
     "text": [
      "[Stage 63:>                                                         (0 + 1) / 1]"
     ]
    },
    {
     "name": "stdout",
     "output_type": "stream",
     "text": [
      "Test Error = 0.0333333 \n"
     ]
    },
    {
     "name": "stderr",
     "output_type": "stream",
     "text": [
      "                                                                                "
     ]
    }
   ],
   "source": [
    "# Make predictions.\n",
    "predictions = model.transform(testData)\n",
    "\n",
    "# Select example rows to display.\n",
    "predictions.select(\"prediction\", \"indexedLabel\", \"features\").show()\n",
    "\n",
    "# Select (prediction, true label) and compute test error\n",
    "evaluator = MulticlassClassificationEvaluator(labelCol=\"indexedLabel\", predictionCol=\"prediction\", metricName=\"accuracy\")\n",
    "accuracy = evaluator.evaluate(predictions)\n",
    "print(\"Test Error = %g \" % (1.0 - accuracy))"
   ]
  },
  {
   "cell_type": "markdown",
   "id": "646edd09-f661-456a-bd95-15842d946eb9",
   "metadata": {
    "jp-MarkdownHeadingCollapsed": true
   },
   "source": [
    "## SparkMLlib_KMeans"
   ]
  },
  {
   "cell_type": "code",
   "execution_count": 42,
   "id": "28442913-4b7a-48f5-b170-dd56c63c20ed",
   "metadata": {},
   "outputs": [],
   "source": [
    "from pyspark.sql import SparkSession\n",
    "\n",
    "spark = SparkSession.builder.master(\"local[*]\").appName(\"SparkMLLib_KMeans\").getOrCreate()"
   ]
  },
  {
   "cell_type": "code",
   "execution_count": 43,
   "id": "ff91ea93-cbdb-4258-afcc-7a9d8bfce7aa",
   "metadata": {},
   "outputs": [
    {
     "name": "stdout",
     "output_type": "stream",
     "text": [
      "+-----+--------------------+\n",
      "|label|            features|\n",
      "+-----+--------------------+\n",
      "|  0.0|           (3,[],[])|\n",
      "|  1.0|(3,[0,1,2],[0.1,0...|\n",
      "|  2.0|(3,[0,1,2],[0.2,0...|\n",
      "|  3.0|(3,[0,1,2],[9.0,9...|\n",
      "|  4.0|(3,[0,1,2],[9.1,9...|\n",
      "|  5.0|(3,[0,1,2],[9.2,9...|\n",
      "+-----+--------------------+\n",
      "\n"
     ]
    },
    {
     "data": {
      "text/plain": [
       "6"
      ]
     },
     "execution_count": 43,
     "metadata": {},
     "output_type": "execute_result"
    }
   ],
   "source": [
    "from pyspark.ml.clustering import KMeans\n",
    "from pyspark.ml.evaluation import ClusteringEvaluator\n",
    "\n",
    "# Loads data.\n",
    "dataset = spark.read.format(\"libsvm\").load(\"file:////home/oanh/Downloads/spark-3.5.5-bin-hadoop3/data/mllib/sample_kmeans_data.txt\")\n",
    "\n",
    "dataset.show()\n",
    "\n",
    "dataset.count()"
   ]
  },
  {
   "cell_type": "code",
   "execution_count": 44,
   "id": "cdd7497a-828a-4c2e-8dc4-cd249deee2d2",
   "metadata": {},
   "outputs": [
    {
     "name": "stderr",
     "output_type": "stream",
     "text": [
      "                                                                                "
     ]
    }
   ],
   "source": [
    "# Trains a k-means model.\n",
    "kmeans = KMeans().setK(2).setSeed(1)\n",
    "model = kmeans.fit(dataset)"
   ]
  },
  {
   "cell_type": "code",
   "execution_count": 45,
   "id": "7c540df7-fd59-4cdb-b2dd-66bb04a3f8be",
   "metadata": {},
   "outputs": [
    {
     "name": "stderr",
     "output_type": "stream",
     "text": [
      "[Stage 88:>                                                         (0 + 1) / 1]"
     ]
    },
    {
     "name": "stdout",
     "output_type": "stream",
     "text": [
      "Silhouette with squared euclidean distance = 0.9997530305375207\n"
     ]
    },
    {
     "name": "stderr",
     "output_type": "stream",
     "text": [
      "                                                                                "
     ]
    }
   ],
   "source": [
    "# Make predictions\n",
    "predictions = model.transform(dataset)\n",
    "\n",
    "# Evaluate clustering by computing Silhouette score\n",
    "evaluator = ClusteringEvaluator()\n",
    "\n",
    "silhouette = evaluator.evaluate(predictions)\n",
    "print(\"Silhouette with squared euclidean distance = \" + str(silhouette))"
   ]
  },
  {
   "cell_type": "code",
   "execution_count": 46,
   "id": "5bc6f360-b149-454b-9a86-d180c018520e",
   "metadata": {},
   "outputs": [
    {
     "name": "stdout",
     "output_type": "stream",
     "text": [
      "Cluster Centers: \n",
      "[9.1 9.1 9.1]\n",
      "[0.1 0.1 0.1]\n"
     ]
    }
   ],
   "source": [
    "# Shows the result.\n",
    "centers = model.clusterCenters()\n",
    "print(\"Cluster Centers: \")\n",
    "for center in centers:\n",
    "    print(center)"
   ]
  },
  {
   "cell_type": "markdown",
   "id": "05881eaa-8286-4391-9193-5314a68bf9f5",
   "metadata": {
    "jp-MarkdownHeadingCollapsed": true
   },
   "source": [
    "## SparkMLlib_NaiveBayes"
   ]
  },
  {
   "cell_type": "code",
   "execution_count": 47,
   "id": "c7a58525-b35c-4803-ac3c-ca408b956092",
   "metadata": {},
   "outputs": [],
   "source": [
    "from pyspark.sql import SparkSession\n",
    "\n",
    "spark = SparkSession.builder.master(\"local[*]\").appName(\"SparkMLLib_NaiveBayes\").getOrCreate()"
   ]
  },
  {
   "cell_type": "code",
   "execution_count": 48,
   "id": "75a56eaf-9f95-4244-bad4-d35ea1154562",
   "metadata": {},
   "outputs": [
    {
     "name": "stdout",
     "output_type": "stream",
     "text": [
      "+-----+--------------------+\n",
      "|label|            features|\n",
      "+-----+--------------------+\n",
      "|  0.0|(692,[127,128,129...|\n",
      "|  1.0|(692,[158,159,160...|\n",
      "|  1.0|(692,[124,125,126...|\n",
      "|  1.0|(692,[152,153,154...|\n",
      "|  1.0|(692,[151,152,153...|\n",
      "|  0.0|(692,[129,130,131...|\n",
      "|  1.0|(692,[158,159,160...|\n",
      "|  1.0|(692,[99,100,101,...|\n",
      "|  0.0|(692,[154,155,156...|\n",
      "|  0.0|(692,[127,128,129...|\n",
      "|  1.0|(692,[154,155,156...|\n",
      "|  0.0|(692,[153,154,155...|\n",
      "|  0.0|(692,[151,152,153...|\n",
      "|  1.0|(692,[129,130,131...|\n",
      "|  0.0|(692,[154,155,156...|\n",
      "|  1.0|(692,[150,151,152...|\n",
      "|  0.0|(692,[124,125,126...|\n",
      "|  0.0|(692,[152,153,154...|\n",
      "|  1.0|(692,[97,98,99,12...|\n",
      "|  1.0|(692,[124,125,126...|\n",
      "+-----+--------------------+\n",
      "only showing top 20 rows\n",
      "\n"
     ]
    },
    {
     "data": {
      "text/plain": [
       "100"
      ]
     },
     "execution_count": 48,
     "metadata": {},
     "output_type": "execute_result"
    }
   ],
   "source": [
    "from pyspark.ml.classification import NaiveBayes\n",
    "from pyspark.ml.evaluation import MulticlassClassificationEvaluator\n",
    "\n",
    "# Load training data\n",
    "data = spark.read.format(\"libsvm\").load(\"file:////home/oanh/Downloads/spark-3.5.5-bin-hadoop3/data/mllib/sample_libsvm_data.txt\")\n",
    "\n",
    "data.show()\n",
    "data.count()"
   ]
  },
  {
   "cell_type": "code",
   "execution_count": 49,
   "id": "7f7585f6-878f-4c56-ad4e-60d7bf2a59af",
   "metadata": {},
   "outputs": [],
   "source": [
    "# Split the data into train and test\n",
    "splits = data.randomSplit([0.6, 0.4], 1234)\n",
    "train = splits[0]\n",
    "test = splits[1]\n",
    "\n",
    "# create the trainer and set its parameters\n",
    "nb = NaiveBayes(smoothing=1.0, modelType=\"multinomial\")\n",
    "\n",
    "# train the model\n",
    "model = nb.fit(train)"
   ]
  },
  {
   "cell_type": "code",
   "execution_count": 50,
   "id": "7a803ce9-5816-4655-8fb6-d25057f2f0b9",
   "metadata": {},
   "outputs": [
    {
     "name": "stdout",
     "output_type": "stream",
     "text": [
      "+-----+--------------------+--------------------+-----------+----------+\n",
      "|label|            features|       rawPrediction|probability|prediction|\n",
      "+-----+--------------------+--------------------+-----------+----------+\n",
      "|  0.0|(692,[95,96,97,12...|[-172664.79564650...|  [1.0,0.0]|       0.0|\n",
      "|  0.0|(692,[98,99,100,1...|[-176279.15054306...|  [1.0,0.0]|       0.0|\n",
      "|  0.0|(692,[122,123,124...|[-189600.55409526...|  [1.0,0.0]|       0.0|\n",
      "|  0.0|(692,[124,125,126...|[-274673.88337431...|  [1.0,0.0]|       0.0|\n",
      "|  0.0|(692,[124,125,126...|[-183393.03869049...|  [1.0,0.0]|       0.0|\n",
      "|  0.0|(692,[125,126,127...|[-256992.48807619...|  [1.0,0.0]|       0.0|\n",
      "|  0.0|(692,[126,127,128...|[-210411.53649773...|  [1.0,0.0]|       0.0|\n",
      "|  0.0|(692,[127,128,129...|[-170627.63616681...|  [1.0,0.0]|       0.0|\n",
      "|  0.0|(692,[127,128,129...|[-212157.96750469...|  [1.0,0.0]|       0.0|\n",
      "|  0.0|(692,[127,128,129...|[-183253.80108550...|  [1.0,0.0]|       0.0|\n",
      "|  0.0|(692,[128,129,130...|[-246528.93739632...|  [1.0,0.0]|       0.0|\n",
      "|  0.0|(692,[150,151,152...|[-158348.34683571...|  [1.0,0.0]|       0.0|\n",
      "|  0.0|(692,[152,153,154...|[-210229.50765957...|  [1.0,0.0]|       0.0|\n",
      "|  0.0|(692,[152,153,154...|[-242985.16248889...|  [1.0,0.0]|       0.0|\n",
      "|  0.0|(692,[152,153,154...|[-94622.933454005...|  [1.0,0.0]|       0.0|\n",
      "|  0.0|(692,[153,154,155...|[-266465.39689814...|  [1.0,0.0]|       0.0|\n",
      "|  0.0|(692,[153,154,155...|[-144989.71469229...|  [1.0,0.0]|       0.0|\n",
      "|  0.0|(692,[154,155,156...|[-283834.57437738...|  [1.0,0.0]|       0.0|\n",
      "|  0.0|(692,[181,182,183...|[-155256.59399829...|  [1.0,0.0]|       0.0|\n",
      "|  1.0|(692,[100,101,102...|[-147726.11958982...|  [0.0,1.0]|       1.0|\n",
      "+-----+--------------------+--------------------+-----------+----------+\n",
      "only showing top 20 rows\n",
      "\n",
      "Test set accuracy = 1.0\n"
     ]
    }
   ],
   "source": [
    "# select example rows to display.\n",
    "predictions = model.transform(test)\n",
    "predictions.show()\n",
    "\n",
    "# compute accuracy on the test set\n",
    "evaluator = MulticlassClassificationEvaluator(labelCol=\"label\", predictionCol=\"prediction\", metricName=\"accuracy\")\n",
    "accuracy = evaluator.evaluate(predictions)\n",
    "print(\"Test set accuracy = \" + str(accuracy))"
   ]
  },
  {
   "cell_type": "markdown",
   "id": "c2b8abe2-d524-407c-8637-178484ade062",
   "metadata": {},
   "source": [
    "## SparkMLlib_TFIDF"
   ]
  },
  {
   "cell_type": "code",
   "execution_count": 51,
   "id": "426256fd-f51e-4ee6-b806-7db6fde66513",
   "metadata": {},
   "outputs": [],
   "source": [
    "from pyspark.sql import SparkSession\n",
    "\n",
    "spark = SparkSession.builder.master(\"local[*]\").appName(\"SparkMLLib_TFIDF\").getOrCreate()"
   ]
  },
  {
   "cell_type": "code",
   "execution_count": 52,
   "id": "b497a396-cb11-4d23-a804-526fcc5ade80",
   "metadata": {},
   "outputs": [
    {
     "name": "stderr",
     "output_type": "stream",
     "text": [
      "                                                                                "
     ]
    },
    {
     "name": "stdout",
     "output_type": "stream",
     "text": [
      "+-----+--------------------+\n",
      "|label|            features|\n",
      "+-----+--------------------+\n",
      "|  0.0|(20,[6,8,13,16],[...|\n",
      "|  0.0|(20,[0,2,7,13,15,...|\n",
      "|  1.0|(20,[3,4,6,11,19]...|\n",
      "+-----+--------------------+\n",
      "\n"
     ]
    }
   ],
   "source": [
    "from pyspark.ml.feature import HashingTF, IDF, Tokenizer\n",
    "\n",
    "sentenceData = spark.createDataFrame([\n",
    "    (0.0, \"Hi I heard about Spark\"),\n",
    "    (0.0, \"I wish Java could use case classes\"),\n",
    "    (1.0, \"Logistic regression models are neat\")\n",
    "], [\"label\", \"sentence\"])\n",
    "\n",
    "tokenizer = Tokenizer(inputCol=\"sentence\", outputCol=\"words\")\n",
    "wordsData = tokenizer.transform(sentenceData)\n",
    "\n",
    "hashingTF = HashingTF(inputCol=\"words\", outputCol=\"rawFeatures\", numFeatures=20)\n",
    "featurizedData = hashingTF.transform(wordsData)\n",
    "# alternatively, CountVectorizer can also be used to get term frequency vectors\n",
    "\n",
    "idf = IDF(inputCol=\"rawFeatures\", outputCol=\"features\")\n",
    "idfModel = idf.fit(featurizedData)\n",
    "rescaledData = idfModel.transform(featurizedData)\n",
    "\n",
    "rescaledData.select(\"label\", \"features\").show()"
   ]
  }
 ],
 "metadata": {
  "kernelspec": {
   "display_name": "Python 3 (ipykernel)",
   "language": "python",
   "name": "python3"
  },
  "language_info": {
   "codemirror_mode": {
    "name": "ipython",
    "version": 3
   },
   "file_extension": ".py",
   "mimetype": "text/x-python",
   "name": "python",
   "nbconvert_exporter": "python",
   "pygments_lexer": "ipython3",
   "version": "3.8.10"
  }
 },
 "nbformat": 4,
 "nbformat_minor": 5
}
