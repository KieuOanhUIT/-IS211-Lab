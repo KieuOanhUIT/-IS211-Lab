{
 "cells": [
  {
   "cell_type": "markdown",
   "id": "ad087f97-27f6-46ef-acba-335f25bec499",
   "metadata": {},
   "source": [
    "# Lab 5 - 22521062"
   ]
  },
  {
   "cell_type": "markdown",
   "id": "4a3076df-a140-4a5a-a3ae-78624f8dfb75",
   "metadata": {},
   "source": [
    "## Bai tap 1"
   ]
  },
  {
   "cell_type": "code",
   "execution_count": 1,
   "id": "ad787d4f-75f6-469b-8834-b5e35b19bbf4",
   "metadata": {},
   "outputs": [
    {
     "name": "stderr",
     "output_type": "stream",
     "text": [
      "25/05/15 14:24:25 WARN Utils: Your hostname, oanh-VirtualBox resolves to a loopback address: 127.0.1.1; using 10.0.2.15 instead (on interface enp0s3)\n",
      "25/05/15 14:24:25 WARN Utils: Set SPARK_LOCAL_IP if you need to bind to another address\n"
     ]
    },
    {
     "name": "stdout",
     "output_type": "stream",
     "text": [
      ":: loading settings :: url = jar:file:/home/oanh/spark_env/lib/python3.8/site-packages/pyspark/jars/ivy-2.5.1.jar!/org/apache/ivy/core/settings/ivysettings.xml\n"
     ]
    },
    {
     "name": "stderr",
     "output_type": "stream",
     "text": [
      "Ivy Default Cache set to: /home/oanh/.ivy2/cache\n",
      "The jars for the packages stored in: /home/oanh/.ivy2/jars\n",
      "graphframes#graphframes added as a dependency\n",
      ":: resolving dependencies :: org.apache.spark#spark-submit-parent-4a288037-722d-4cad-bf0d-d9a2025afbc1;1.0\n",
      "\tconfs: [default]\n",
      "\tfound graphframes#graphframes;0.8.4-spark3.5-s_2.12 in spark-packages\n",
      "\tfound org.slf4j#slf4j-api;1.7.16 in central\n",
      ":: resolution report :: resolve 603ms :: artifacts dl 12ms\n",
      "\t:: modules in use:\n",
      "\tgraphframes#graphframes;0.8.4-spark3.5-s_2.12 from spark-packages in [default]\n",
      "\torg.slf4j#slf4j-api;1.7.16 from central in [default]\n",
      "\t---------------------------------------------------------------------\n",
      "\t|                  |            modules            ||   artifacts   |\n",
      "\t|       conf       | number| search|dwnlded|evicted|| number|dwnlded|\n",
      "\t---------------------------------------------------------------------\n",
      "\t|      default     |   2   |   0   |   0   |   0   ||   2   |   0   |\n",
      "\t---------------------------------------------------------------------\n",
      ":: retrieving :: org.apache.spark#spark-submit-parent-4a288037-722d-4cad-bf0d-d9a2025afbc1\n",
      "\tconfs: [default]\n",
      "\t0 artifacts copied, 2 already retrieved (0kB/29ms)\n",
      "25/05/15 14:24:28 WARN NativeCodeLoader: Unable to load native-hadoop library for your platform... using builtin-java classes where applicable\n",
      "Setting default log level to \"WARN\".\n",
      "To adjust logging level use sc.setLogLevel(newLevel). For SparkR, use setLogLevel(newLevel).\n"
     ]
    }
   ],
   "source": [
    "from pyspark.sql import SparkSession\n",
    "\n",
    "spark = SparkSession.builder \\\n",
    "    .appName(\"GraphFramesApp\") \\\n",
    "    .config(\"spark.jars.packages\", \"graphframes:graphframes:0.8.4-spark3.5-s_2.12\") \\\n",
    "    .getOrCreate()"
   ]
  },
  {
   "cell_type": "code",
   "execution_count": 2,
   "id": "a7dc66a1-e8c7-41e1-b8bf-8317437079f2",
   "metadata": {},
   "outputs": [],
   "source": [
    "from graphframes import *\n",
    "from pyspark.storagelevel import StorageLevel\n",
    "from pyspark.sql.functions import col\n",
    "import os"
   ]
  },
  {
   "cell_type": "code",
   "execution_count": 3,
   "id": "5d517019-e8d1-483e-b517-f9e3f69dc381",
   "metadata": {},
   "outputs": [
    {
     "name": "stderr",
     "output_type": "stream",
     "text": [
      "                                                                                "
     ]
    }
   ],
   "source": [
    "# Doc du lieu tu csv\n",
    "v = spark.read.csv(\"file:////home/oanh/Lab5/TH7_Attachments/2_people_data_2k.csv\", header=True, inferSchema=True)"
   ]
  },
  {
   "cell_type": "code",
   "execution_count": 4,
   "id": "d7a54f78-ec38-48dd-964f-7a2097789825",
   "metadata": {},
   "outputs": [
    {
     "name": "stderr",
     "output_type": "stream",
     "text": [
      "                                                                                "
     ]
    }
   ],
   "source": [
    "# Doc du lieu tu csv\n",
    "e = spark.read.csv(\"file:////home/oanh/Lab5/TH7_Attachments/2_connections_data_300k.csv\", header=True, inferSchema=True)"
   ]
  },
  {
   "cell_type": "code",
   "execution_count": 5,
   "id": "7deff916-5f24-4616-a87c-dbfbf23e3cb9",
   "metadata": {},
   "outputs": [
    {
     "data": {
      "text/plain": [
       "GraphFrame(v:[id: int, name: string ... 1 more field], e:[src: int, dst: int ... 1 more field])"
      ]
     },
     "execution_count": 5,
     "metadata": {},
     "output_type": "execute_result"
    }
   ],
   "source": [
    "# Tạo GraphFrame\n",
    "g = GraphFrame(v, e)\n",
    "g.persist(StorageLevel.MEMORY_AND_DISK)"
   ]
  },
  {
   "cell_type": "code",
   "execution_count": 6,
   "id": "3760ab30-75ce-4923-bbdd-a46dde13575b",
   "metadata": {},
   "outputs": [
    {
     "name": "stdout",
     "output_type": "stream",
     "text": [
      "GraphFrame được tạo thành công:\n"
     ]
    },
    {
     "name": "stderr",
     "output_type": "stream",
     "text": [
      "                                                                                "
     ]
    },
    {
     "name": "stdout",
     "output_type": "stream",
     "text": [
      "+---+-------------+---+\n",
      "| id|         name|age|\n",
      "+---+-------------+---+\n",
      "|  1|Phạm Thế Châu| 41|\n",
      "|  2|  Hoàng Nhiên| 24|\n",
      "|  3|      Lê Thảo| 46|\n",
      "|  4|  Trần Duy Hà| 56|\n",
      "|  5|    Mai Hương| 35|\n",
      "|  6|       Vũ Hải| 61|\n",
      "|  7|      Đặng Hà| 32|\n",
      "|  8|      Vũ Thảo| 49|\n",
      "|  9|    Trần Khoa| 77|\n",
      "| 10|    Nguyễn An| 27|\n",
      "| 11|    Phạm Phúc| 68|\n",
      "| 12|      Bùi Mai| 78|\n",
      "| 13|Đặng Duy Dũng| 39|\n",
      "| 14|   Vũ Trí Hải| 30|\n",
      "| 15|     Hoàng Hà| 55|\n",
      "| 16|       Vũ Kim| 24|\n",
      "| 17|      Lê Hạnh| 38|\n",
      "| 18|  Nguyễn Châu| 29|\n",
      "| 19|Nguyễn Bảo Vũ| 64|\n",
      "| 20|      Vũ Linh| 65|\n",
      "+---+-------------+---+\n",
      "only showing top 20 rows\n",
      "\n"
     ]
    },
    {
     "name": "stderr",
     "output_type": "stream",
     "text": [
      "[Stage 6:=============================>                             (1 + 1) / 2]"
     ]
    },
    {
     "name": "stdout",
     "output_type": "stream",
     "text": [
      "+----+----+------------+\n",
      "| src| dst|relationship|\n",
      "+----+----+------------+\n",
      "|1770|1228|      friend|\n",
      "|1405| 541|      friend|\n",
      "| 309| 904|      friend|\n",
      "|   1| 751|      follow|\n",
      "| 968| 540|      follow|\n",
      "|1840| 469|      follow|\n",
      "|   4|1022|      follow|\n",
      "| 498|1557|      follow|\n",
      "|1267| 607|      friend|\n",
      "|1277|1295|      follow|\n",
      "|1738| 192|      friend|\n",
      "| 406|1968|      follow|\n",
      "| 308|1433|      friend|\n",
      "|1942|1990|      friend|\n",
      "| 740|1090|      follow|\n",
      "|1954| 756|      friend|\n",
      "| 925|  89|      follow|\n",
      "| 488|  88|      friend|\n",
      "|1088|1773|      follow|\n",
      "|1360|  17|      friend|\n",
      "+----+----+------------+\n",
      "only showing top 20 rows\n",
      "\n"
     ]
    },
    {
     "name": "stderr",
     "output_type": "stream",
     "text": [
      "                                                                                "
     ]
    }
   ],
   "source": [
    "# Hiển thị tập đỉnh và cạnh dưới dạng Dataframe\n",
    "print(\"GraphFrame được tạo thành công:\")\n",
    "g.vertices.show()\n",
    "g.edges.show()"
   ]
  },
  {
   "cell_type": "code",
   "execution_count": 7,
   "id": "b5773f53-a9b8-46d4-9484-90526cbe917f",
   "metadata": {},
   "outputs": [
    {
     "name": "stdout",
     "output_type": "stream",
     "text": [
      "Số lượng đỉnh: 2000\n",
      "Số lượng cạnh: 300000\n"
     ]
    }
   ],
   "source": [
    "# Hiển thị số lượng đỉnh và cạnh\n",
    "print(f\"Số lượng đỉnh: {g.vertices.count()}\")\n",
    "print(f\"Số lượng cạnh: {g.edges.count()}\")"
   ]
  },
  {
   "cell_type": "code",
   "execution_count": 8,
   "id": "a86de4f3-d097-4569-8e07-829e9f574049",
   "metadata": {},
   "outputs": [
    {
     "name": "stdout",
     "output_type": "stream",
     "text": [
      "Bậc vào của các đỉnh:\n"
     ]
    },
    {
     "name": "stderr",
     "output_type": "stream",
     "text": [
      "[Stage 14:>                                                         (0 + 2) / 2]"
     ]
    },
    {
     "name": "stdout",
     "output_type": "stream",
     "text": [
      "+----+--------+\n",
      "|  id|inDegree|\n",
      "+----+--------+\n",
      "| 471|     159|\n",
      "|1591|     137|\n",
      "| 463|     147|\n",
      "|1829|     145|\n",
      "| 833|     154|\n",
      "|1342|     160|\n",
      "|1238|     176|\n",
      "| 496|     139|\n",
      "|1088|     163|\n",
      "| 148|     148|\n",
      "|1959|     153|\n",
      "|1645|     143|\n",
      "|1580|     140|\n",
      "| 540|     164|\n",
      "|1990|     183|\n",
      "| 392|     129|\n",
      "|1896|     160|\n",
      "| 897|     162|\n",
      "|1084|     127|\n",
      "| 243|     159|\n",
      "+----+--------+\n",
      "only showing top 20 rows\n",
      "\n"
     ]
    },
    {
     "name": "stderr",
     "output_type": "stream",
     "text": [
      "                                                                                "
     ]
    }
   ],
   "source": [
    "# Hiển thị bậc vào (in-degree) của mỗi đỉnh\n",
    "print(\"Bậc vào của các đỉnh:\")\n",
    "g.inDegrees.show()"
   ]
  },
  {
   "cell_type": "code",
   "execution_count": 9,
   "id": "c1f0a1ab-9387-4622-9d9a-eaabe94b33c0",
   "metadata": {},
   "outputs": [
    {
     "name": "stdout",
     "output_type": "stream",
     "text": [
      "Bậc ra của các đỉnh:\n",
      "+----+---------+\n",
      "|  id|outDegree|\n",
      "+----+---------+\n",
      "|1088|      157|\n",
      "| 833|      140|\n",
      "|1580|      161|\n",
      "|1342|      155|\n",
      "|1645|      148|\n",
      "|1959|      135|\n",
      "| 463|      143|\n",
      "|1829|      160|\n",
      "| 496|      150|\n",
      "| 148|      146|\n",
      "| 471|      138|\n",
      "|1238|      160|\n",
      "|1591|      144|\n",
      "|1721|      135|\n",
      "|1395|      143|\n",
      "| 623|      158|\n",
      "|1507|      159|\n",
      "|1025|      163|\n",
      "| 737|      141|\n",
      "|1522|      173|\n",
      "+----+---------+\n",
      "only showing top 20 rows\n",
      "\n"
     ]
    }
   ],
   "source": [
    "# Hiển thị bậc ra (out-degree) của mỗi đỉnh\n",
    "print(\"Bậc ra của các đỉnh:\")\n",
    "g.outDegrees.show()"
   ]
  },
  {
   "cell_type": "code",
   "execution_count": 10,
   "id": "49aca872-a6fc-46d6-af64-a83406801877",
   "metadata": {},
   "outputs": [
    {
     "name": "stdout",
     "output_type": "stream",
     "text": [
      "Tổng bậc của các đỉnh:\n"
     ]
    },
    {
     "name": "stderr",
     "output_type": "stream",
     "text": [
      "[Stage 20:>                                                         (0 + 2) / 2]"
     ]
    },
    {
     "name": "stdout",
     "output_type": "stream",
     "text": [
      "+----+------+\n",
      "|  id|degree|\n",
      "+----+------+\n",
      "|1088|   320|\n",
      "| 833|   294|\n",
      "|1580|   301|\n",
      "| 471|   297|\n",
      "|1591|   281|\n",
      "|1342|   315|\n",
      "|1645|   291|\n",
      "| 463|   290|\n",
      "|1829|   305|\n",
      "|1959|   288|\n",
      "|1238|   336|\n",
      "| 496|   289|\n",
      "| 148|   294|\n",
      "| 540|   313|\n",
      "|1990|   310|\n",
      "| 392|   278|\n",
      "|1721|   285|\n",
      "|1896|   303|\n",
      "|1395|   286|\n",
      "| 623|   307|\n",
      "+----+------+\n",
      "only showing top 20 rows\n",
      "\n"
     ]
    },
    {
     "name": "stderr",
     "output_type": "stream",
     "text": [
      "                                                                                "
     ]
    }
   ],
   "source": [
    "# Hiển thị tổng bậc (degree) của mỗi đỉnh\n",
    "print(\"Tổng bậc của các đỉnh:\")\n",
    "g.degrees.show()"
   ]
  },
  {
   "cell_type": "code",
   "execution_count": 11,
   "id": "adadb89c-344f-4db1-a15e-1282a35ba758",
   "metadata": {},
   "outputs": [
    {
     "name": "stdout",
     "output_type": "stream",
     "text": [
      "Các đỉnh có tuổi lớn hơn 60:\n",
      "+---+----------------+---+\n",
      "| id|            name|age|\n",
      "+---+----------------+---+\n",
      "|  6|          Vũ Hải| 61|\n",
      "|  9|       Trần Khoa| 77|\n",
      "| 11|       Phạm Phúc| 68|\n",
      "| 12|         Bùi Mai| 78|\n",
      "| 19|   Nguyễn Bảo Vũ| 64|\n",
      "| 20|         Vũ Linh| 65|\n",
      "| 22|Dương Bảo Phương| 69|\n",
      "| 24| Dương Duy Nhiên| 68|\n",
      "| 32|      Vũ Mai Lâm| 69|\n",
      "| 38|         Lê Hồng| 77|\n",
      "| 40|     Nguyễn Nhật| 62|\n",
      "| 42|  Trần Phú Thành| 77|\n",
      "| 46|    Mai Phú Minh| 63|\n",
      "| 47|          Lê Lâm| 71|\n",
      "| 49|    Vũ Hữu Thành| 70|\n",
      "| 53|     Phạm Phương| 68|\n",
      "| 55|       Phạm Linh| 71|\n",
      "| 59|        Trần Anh| 67|\n",
      "| 60| Nguyễn Bảo Hạnh| 76|\n",
      "| 65|         Bùi Huy| 71|\n",
      "+---+----------------+---+\n",
      "only showing top 20 rows\n",
      "\n"
     ]
    }
   ],
   "source": [
    "# Lọc các đỉnh theo thuộc tính (ví dụ: tuổi > 60)\n",
    "print(\"Các đỉnh có tuổi lớn hơn 60:\")\n",
    "g.vertices.filter(\"age > 60\").show()"
   ]
  },
  {
   "cell_type": "code",
   "execution_count": 12,
   "id": "167aa2ef-44e1-4006-917b-6efd1b657a3d",
   "metadata": {},
   "outputs": [
    {
     "name": "stdout",
     "output_type": "stream",
     "text": [
      "Các cạnh có mối quan hệ 'friend':\n",
      "+----+----+------------+\n",
      "| src| dst|relationship|\n",
      "+----+----+------------+\n",
      "|1770|1228|      friend|\n",
      "|1405| 541|      friend|\n",
      "| 309| 904|      friend|\n",
      "|1267| 607|      friend|\n",
      "|1738| 192|      friend|\n",
      "| 308|1433|      friend|\n",
      "|1942|1990|      friend|\n",
      "|1954| 756|      friend|\n",
      "| 488|  88|      friend|\n",
      "|1360|  17|      friend|\n",
      "|1852| 479|      friend|\n",
      "| 458|1377|      friend|\n",
      "|  47| 345|      friend|\n",
      "| 114|1567|      friend|\n",
      "|1867|1511|      friend|\n",
      "|1268| 428|      friend|\n",
      "| 700| 910|      friend|\n",
      "|1426|1768|      friend|\n",
      "| 786| 684|      friend|\n",
      "| 197| 289|      friend|\n",
      "+----+----+------------+\n",
      "only showing top 20 rows\n",
      "\n"
     ]
    }
   ],
   "source": [
    "# Lọc các cạnh theo thuộc tính (ví dụ: relationship là 'friend')\n",
    "print(\"Các cạnh có mối quan hệ 'friend':\")\n",
    "g.edges.filter(\"relationship = 'friend'\").show()"
   ]
  },
  {
   "cell_type": "code",
   "execution_count": 13,
   "id": "9002f936-65df-443d-aa0b-385de6eb2374",
   "metadata": {},
   "outputs": [],
   "source": [
    "# Ví dụ 1: Tìm các cặp (a,b) sao cho a là bạn của b VÀ b là bạn của a\n",
    "# Lưu ý: Cần đảm bảo cột 'relationship' tồn tại và có giá trị 'friend'\n",
    "# Nếu không có cột relationship, bỏ điều kiện e.relationship = ...\n",
    "motifs = g.find(\"(a)-[e]->(b); (b)-[e2]->(a)\") \\\n",
    "          .filter(\"e.relationship = 'friend' and e2.relationship = 'friend'\")"
   ]
  },
  {
   "cell_type": "code",
   "execution_count": 14,
   "id": "1db3904d-3917-4292-a9f1-c99676a65447",
   "metadata": {},
   "outputs": [
    {
     "name": "stdout",
     "output_type": "stream",
     "text": [
      "Các cặp bạn bè tương hỗ (A->B và B->A):\n",
      "+--------------+----------------+\n",
      "|          name|            name|\n",
      "+--------------+----------------+\n",
      "|    Nguyễn Lan|        Mai Linh|\n",
      "|   Phạm Thế An|        Phạm Kim|\n",
      "|        Mai Tú|       Mai Trung|\n",
      "|     Phạm Ngọc|      Nguyễn Nam|\n",
      "|    Mai Văn An|       Đặng Dũng|\n",
      "|   Nguyễn Châu|  Đặng Hải Trọng|\n",
      "|Nguyễn Duy Lâm|      Phạm Thành|\n",
      "|        Lê Vân|      Trần Thành|\n",
      "|       Trần Hà|          Mai An|\n",
      "|      Đặng Kim|       Lê Mai An|\n",
      "|     Mai Quang|  Đặng Mai Hoàng|\n",
      "|       Trần Hà|         Trần Vũ|\n",
      "| Mai Xuân Hạnh|     Hoàng Thành|\n",
      "|       Đặng Tú|    Vũ Đức Trung|\n",
      "|   Lê Trí Tùng|Nguyễn Hữu Thành|\n",
      "|      Đặng Hải|   Mai Bảo Nhiên|\n",
      "| Đặng Mai Châu|         Đặng Tú|\n",
      "|     Mai Nhiên| Nguyễn Phú Hưng|\n",
      "|        Lê Kim|          Vũ Kim|\n",
      "|   Nguyễn Thảo|       Dương Mai|\n",
      "+--------------+----------------+\n",
      "only showing top 20 rows\n",
      "\n"
     ]
    },
    {
     "name": "stderr",
     "output_type": "stream",
     "text": [
      "                                                                                "
     ]
    }
   ],
   "source": [
    "print(\"Các cặp bạn bè tương hỗ (A->B và B->A):\")\n",
    "# Chọn lọc để tránh trùng lặp (ví dụ: chỉ hiển thị khi id a < id b)\n",
    "mutual_friends = motifs.filter(\"a.id < b.id\").dropDuplicates(['a', 'b'])\n",
    "mutual_friends.select(\"a.name\", \"b.name\").show()"
   ]
  },
  {
   "cell_type": "code",
   "execution_count": 15,
   "id": "92039d87-4266-4ee2-848a-8a2e54319a74",
   "metadata": {},
   "outputs": [
    {
     "name": "stderr",
     "output_type": "stream",
     "text": [
      "                                                                                "
     ]
    },
    {
     "name": "stdout",
     "output_type": "stream",
     "text": [
      "+----+-------------+----+----------------+\n",
      "|a_id|       a_name|c_id|          c_name|\n",
      "+----+-------------+----+----------------+\n",
      "|   1|Phạm Thế Châu|   2|     Hoàng Nhiên|\n",
      "|   1|Phạm Thế Châu|   3|         Lê Thảo|\n",
      "|   1|Phạm Thế Châu|   4|     Trần Duy Hà|\n",
      "|   1|Phạm Thế Châu|   7|         Đặng Hà|\n",
      "|   1|Phạm Thế Châu|   8|         Vũ Thảo|\n",
      "|   1|Phạm Thế Châu|   9|       Trần Khoa|\n",
      "|   1|Phạm Thế Châu|  11|       Phạm Phúc|\n",
      "|   1|Phạm Thế Châu|  16|          Vũ Kim|\n",
      "|   1|Phạm Thế Châu|  19|   Nguyễn Bảo Vũ|\n",
      "|   1|Phạm Thế Châu|  20|         Vũ Linh|\n",
      "|   1|Phạm Thế Châu|  22|Dương Bảo Phương|\n",
      "|   1|Phạm Thế Châu|  23|        Lê Hương|\n",
      "|   1|Phạm Thế Châu|  25|       Nguyễn An|\n",
      "|   1|Phạm Thế Châu|  26|         Vũ Thảo|\n",
      "|   1|Phạm Thế Châu|  32|      Vũ Mai Lâm|\n",
      "|   1|Phạm Thế Châu|  33|        Bùi Xuân|\n",
      "|   1|Phạm Thế Châu|  36|        Đặng Ánh|\n",
      "|   1|Phạm Thế Châu|  37|       Phạm Tùng|\n",
      "|   1|Phạm Thế Châu|  39|      Nguyễn Bảo|\n",
      "|   1|Phạm Thế Châu|  41|      Hoàng Linh|\n",
      "+----+-------------+----+----------------+\n",
      "only showing top 20 rows\n",
      "\n"
     ]
    },
    {
     "name": "stderr",
     "output_type": "stream",
     "text": [
      "                                                                                "
     ]
    },
    {
     "data": {
      "text/plain": [
       "3757084"
      ]
     },
     "execution_count": 15,
     "metadata": {},
     "output_type": "execute_result"
    }
   ],
   "source": [
    "# Ví dụ 2: Tìm \"bạn của bạn\" (Friends of friends - FoF)\n",
    "# Tìm a -> b -> c, trong đó a không phải là c và a chưa phải là bạn trực tiếp của c\n",
    "fof = g.find(\"(a)-[e1]->(b); (b)-[e2]->(c)\") \\\n",
    "          .filter(\"e1.relationship = 'friend' and e2.relationship = 'friend' and a.id != c.id\") \\\n",
    "          .select(col('a.id').alias('a_id'), col('a.name').alias('a_name'), col('c.id').alias('c_id'), col('c.name').alias('c_name')) \\\n",
    "          .dropDuplicates(['a_id', 'c_id'])\n",
    "fof.show()\n",
    "fof.count()"
   ]
  },
  {
   "cell_type": "code",
   "execution_count": 16,
   "id": "a6b6d641-6605-4e94-a494-5e7e792d30ad",
   "metadata": {},
   "outputs": [
    {
     "name": "stdout",
     "output_type": "stream",
     "text": [
      "+----+---------------+----+----------------+\n",
      "|a_id|         a_name|c_id|          c_name|\n",
      "+----+---------------+----+----------------+\n",
      "|1770|Nguyễn Duy Khoa|1228|   Mai Trí Thành|\n",
      "|1405|     Nguyễn Bảo| 541|          Lê Anh|\n",
      "| 309|        Đặng Tú| 904|Nguyễn Xuân Khoa|\n",
      "|1267| Bùi Thế Phương| 607|        Vũ Trọng|\n",
      "|1738|Đặng Hoàng Phúc| 192|  Trần Thế Trọng|\n",
      "| 308|       Lê Thành|1433|     Vũ Đức Khoa|\n",
      "|1942|     Dương Minh|1990|      Nguyễn Huy|\n",
      "|1954| Dương Văn Khoa| 756|     Nguyễn Xuân|\n",
      "| 488|Hoàng Văn Thành|  88| Nguyễn Hữu Dũng|\n",
      "|1360|     Bùi Phương|  17|         Lê Hạnh|\n",
      "|1852| Dương Bảo Phúc| 479| Trần Đức Phương|\n",
      "| 458|         Bùi Hà|1377|         Lê Thảo|\n",
      "|  47|         Lê Lâm| 345|           Vũ Hà|\n",
      "| 114|        Lê Hạnh|1567|    Vũ Tấn Quang|\n",
      "|1867|   Đặng Phú Hải|1511|          Vũ Bảo|\n",
      "|1268|     Trần Thành| 428|   Hoàng Thế Nam|\n",
      "| 700|        Trần An| 910|    Mai Duy Minh|\n",
      "|1426|Hoàng Văn Nhiên|1768|    Mai Bảo Hạnh|\n",
      "| 786|      Bùi Thành| 684|   Dương Văn Hải|\n",
      "| 197|     Trần Thành| 289|        Phạm Mai|\n",
      "+----+---------------+----+----------------+\n",
      "only showing top 20 rows\n",
      "\n"
     ]
    },
    {
     "data": {
      "text/plain": [
       "149848"
      ]
     },
     "execution_count": 16,
     "metadata": {},
     "output_type": "execute_result"
    }
   ],
   "source": [
    "# Tìm những người đã là bạn trực tiếp\n",
    "direct_friends = g.find(\"(a)-[e]->(c)\").filter(\"e.relationship = 'friend'\") \\\n",
    "                      .select(col('a.id').alias('a_id'), col('a.name').alias('a_name'), col('c.id').alias('c_id'), col('c.name').alias('c_name'))\n",
    "direct_friends.show()\n",
    "direct_friends.count()"
   ]
  },
  {
   "cell_type": "code",
   "execution_count": 17,
   "id": "2d9d07ec-ca79-4594-9958-40a7dd65afd1",
   "metadata": {},
   "outputs": [],
   "source": [
    "# Loại bỏ những người đã là bạn trực tiếp khỏi danh sách FoF\n",
    "fof_results = fof.join(direct_friends, (fof.a_id == direct_friends.a_id) & (fof.c_id == direct_friends.c_id), \"left_anti\")\n",
    "# left_anti là lấy phần trong tập bên trái không có trong tập bên phải\n",
    "# fof_results.persist(StorageLevel.MEMORY_AND_DISK)"
   ]
  },
  {
   "cell_type": "code",
   "execution_count": 18,
   "id": "b9ae1144-0de9-4521-af43-f46815af5596",
   "metadata": {},
   "outputs": [
    {
     "name": "stdout",
     "output_type": "stream",
     "text": [
      "Bạn của bạn (chưa phải bạn trực tiếp):\n"
     ]
    },
    {
     "name": "stderr",
     "output_type": "stream",
     "text": [
      "                                                                                "
     ]
    },
    {
     "name": "stdout",
     "output_type": "stream",
     "text": [
      "+-------------+----------------+\n",
      "|       a_name|          c_name|\n",
      "+-------------+----------------+\n",
      "|Phạm Thế Châu|     Hoàng Nhiên|\n",
      "|Phạm Thế Châu|         Lê Thảo|\n",
      "|Phạm Thế Châu|     Trần Duy Hà|\n",
      "|Phạm Thế Châu|         Đặng Hà|\n",
      "|Phạm Thế Châu|         Vũ Thảo|\n",
      "|Phạm Thế Châu|       Trần Khoa|\n",
      "|Phạm Thế Châu|       Phạm Phúc|\n",
      "|Phạm Thế Châu|          Vũ Kim|\n",
      "|Phạm Thế Châu|   Nguyễn Bảo Vũ|\n",
      "|Phạm Thế Châu|         Vũ Linh|\n",
      "|Phạm Thế Châu|Dương Bảo Phương|\n",
      "|Phạm Thế Châu|        Lê Hương|\n",
      "|Phạm Thế Châu|       Nguyễn An|\n",
      "|Phạm Thế Châu|         Vũ Thảo|\n",
      "|Phạm Thế Châu|      Vũ Mai Lâm|\n",
      "|Phạm Thế Châu|        Bùi Xuân|\n",
      "|Phạm Thế Châu|        Đặng Ánh|\n",
      "|Phạm Thế Châu|       Phạm Tùng|\n",
      "|Phạm Thế Châu|      Nguyễn Bảo|\n",
      "|Phạm Thế Châu|      Hoàng Linh|\n",
      "+-------------+----------------+\n",
      "only showing top 20 rows\n",
      "\n"
     ]
    },
    {
     "name": "stderr",
     "output_type": "stream",
     "text": [
      "                                                                                "
     ]
    },
    {
     "data": {
      "text/plain": [
       "3616227"
      ]
     },
     "execution_count": 18,
     "metadata": {},
     "output_type": "execute_result"
    }
   ],
   "source": [
    "# Hien thi ket qua\n",
    "print(\"Bạn của bạn (chưa phải bạn trực tiếp):\")\n",
    "fof_results.select('a_name', 'c_name').show()\n",
    "fof_results.count()"
   ]
  },
  {
   "cell_type": "markdown",
   "id": "ee43e22f-1380-47f9-994b-1887d992c6a5",
   "metadata": {},
   "source": [
    "### Chạy các thuật toán đồ thị (Graph Algorithms)"
   ]
  },
  {
   "cell_type": "code",
   "execution_count": 19,
   "id": "4af76fa5-f47a-4a37-b75c-c8e382eb12df",
   "metadata": {},
   "outputs": [
    {
     "name": "stdout",
     "output_type": "stream",
     "text": [
      "Chạy PageRank:\n"
     ]
    },
    {
     "name": "stderr",
     "output_type": "stream",
     "text": [
      "                                                                                "
     ]
    }
   ],
   "source": [
    "# 1. PageRank - Đánh giá tầm quan trọng của các đỉnh\n",
    "print(\"Chạy PageRank:\")\n",
    "# resetProbability là xác suất nhảy ngẫu nhiên (thường là 0.15)\n",
    "# maxIter là số vòng lặp tối đa\n",
    "results_pr = g.pageRank(resetProbability=0.15, maxIter=10)"
   ]
  },
  {
   "cell_type": "code",
   "execution_count": 20,
   "id": "e237fb0e-acb8-45a2-a16b-9590bc397798",
   "metadata": {},
   "outputs": [
    {
     "name": "stdout",
     "output_type": "stream",
     "text": [
      "+----+------------+------------------+\n",
      "|  id|        name|          pagerank|\n",
      "+----+------------+------------------+\n",
      "| 918|   Vũ Phương|1.2482510238869435|\n",
      "| 270|      Vũ Bảo|1.2077985227994856|\n",
      "| 614| Dương Hương|1.2015109600777392|\n",
      "| 734|Hoàng Phú Hà| 1.201207636225047|\n",
      "|1294|   Lê Văn Hà|1.1931187326217152|\n",
      "| 167| Dương Thành|1.1914044082381847|\n",
      "|1990|  Nguyễn Huy|1.1901550940384684|\n",
      "| 294| Phạm Phương|1.1883077977798242|\n",
      "|1689| Phạm Văn An|1.1816252532851097|\n",
      "|1938| Mai Văn Bảo|1.1795471618219653|\n",
      "|1994| Nguyễn Hồng|1.1760486319014918|\n",
      "| 249|  Dương Linh|1.1756851366285397|\n",
      "|1621|   Phạm Tùng|1.1754447668843966|\n",
      "|1415|    Lê Hương| 1.175398044034436|\n",
      "|1017|Hoàng Đức Hà|1.1718337718503953|\n",
      "| 723|  Mai Văn Vũ|1.1717918967435907|\n",
      "| 374|     Mai Kim|1.1698267563378109|\n",
      "|1784|    Phạm Lâm|1.1672699168568716|\n",
      "|1956|   Phạm Khoa| 1.165040173849614|\n",
      "| 187|Vũ Tấn Thành|1.1635621416020636|\n",
      "+----+------------+------------------+\n",
      "only showing top 20 rows\n",
      "\n",
      "+---+---+--------------------+\n",
      "|src|dst|              weight|\n",
      "+---+---+--------------------+\n",
      "|  1|  9|0.005681818181818182|\n",
      "|  1| 22|0.005681818181818182|\n",
      "|  1| 31|0.005681818181818182|\n",
      "|  1| 38|0.005681818181818182|\n",
      "|  1| 41|0.005681818181818182|\n",
      "|  1| 66|0.005681818181818182|\n",
      "|  1| 86|0.005681818181818182|\n",
      "|  1| 89|0.005681818181818182|\n",
      "|  1| 99|0.005681818181818182|\n",
      "|  1|136|0.005681818181818182|\n",
      "|  1|140|0.005681818181818182|\n",
      "|  1|161|0.005681818181818182|\n",
      "|  1|174|0.005681818181818182|\n",
      "|  1|234|0.005681818181818182|\n",
      "|  1|238|0.005681818181818182|\n",
      "|  1|259|0.005681818181818182|\n",
      "|  1|278|0.005681818181818182|\n",
      "|  1|286|0.005681818181818182|\n",
      "|  1|302|0.005681818181818182|\n",
      "|  1|315|0.005681818181818182|\n",
      "+---+---+--------------------+\n",
      "only showing top 20 rows\n",
      "\n"
     ]
    }
   ],
   "source": [
    "# Hiển thị PageRank của các đỉnh\n",
    "results_pr.vertices.select(\"id\", \"name\", \"pagerank\").orderBy(\"pagerank\", ascending=False).show()\n",
    "# Hiển thị trọng số PageRank trên các cạnh (nếu cần)\n",
    "results_pr.edges.select(\"src\", \"dst\", \"weight\").show()"
   ]
  },
  {
   "cell_type": "code",
   "execution_count": 21,
   "id": "9f7111d8-6a53-4fd9-88d6-90643058cb44",
   "metadata": {},
   "outputs": [],
   "source": [
    "# 2. Connected Components - Tìm các nhóm đỉnh liên thông với nhau\n",
    "# Tạo thư mục để lưu các checkpoints khi chạy thuật toán\n",
    "!mkdir -p checkpoints\n",
    "# Ghi nhận thông tin thư mục checkpoints vào ngữ cảnh Spark\n",
    "spark.sparkContext.setCheckpointDir(\"file:///home/oanh/Lab5/checkpoints\")"
   ]
  },
  {
   "cell_type": "code",
   "execution_count": 22,
   "id": "33b2f7b8-3b28-4b50-a836-742179be7df8",
   "metadata": {},
   "outputs": [
    {
     "name": "stdout",
     "output_type": "stream",
     "text": [
      "Chạy Connected Components (tìm thành phần liên thông):\n"
     ]
    },
    {
     "name": "stderr",
     "output_type": "stream",
     "text": [
      "                                                                                "
     ]
    },
    {
     "name": "stdout",
     "output_type": "stream",
     "text": [
      "+---+-------------+---------+\n",
      "| id|         name|component|\n",
      "+---+-------------+---------+\n",
      "|  1|Phạm Thế Châu|        1|\n",
      "|  2|  Hoàng Nhiên|        1|\n",
      "|  3|      Lê Thảo|        1|\n",
      "|  4|  Trần Duy Hà|        1|\n",
      "|  5|    Mai Hương|        1|\n",
      "|  6|       Vũ Hải|        1|\n",
      "|  7|      Đặng Hà|        1|\n",
      "|  8|      Vũ Thảo|        1|\n",
      "|  9|    Trần Khoa|        1|\n",
      "| 10|    Nguyễn An|        1|\n",
      "| 11|    Phạm Phúc|        1|\n",
      "| 12|      Bùi Mai|        1|\n",
      "| 13|Đặng Duy Dũng|        1|\n",
      "| 14|   Vũ Trí Hải|        1|\n",
      "| 15|     Hoàng Hà|        1|\n",
      "| 16|       Vũ Kim|        1|\n",
      "| 17|      Lê Hạnh|        1|\n",
      "| 18|  Nguyễn Châu|        1|\n",
      "| 19|Nguyễn Bảo Vũ|        1|\n",
      "| 20|      Vũ Linh|        1|\n",
      "+---+-------------+---------+\n",
      "only showing top 20 rows\n",
      "\n"
     ]
    }
   ],
   "source": [
    "print(\"Chạy Connected Components (tìm thành phần liên thông):\")\n",
    "# Thuật toán này gán một ID thành phần (component) cho mỗi đỉnh\n",
    "results_cc = g.connectedComponents()\n",
    "results_cc.select(\"id\", \"name\", \"component\").orderBy(\"component\").show()"
   ]
  },
  {
   "cell_type": "code",
   "execution_count": 23,
   "id": "a3913991-0f6f-48a3-a71d-9a90b57f856c",
   "metadata": {},
   "outputs": [
    {
     "name": "stdout",
     "output_type": "stream",
     "text": [
      "rmdir: failed to remove '/s': No such file or directory\n",
      "rmdir: failed to remove '/q': No such file or directory\n",
      "rmdir: failed to remove 'checkpoints': Directory not empty\n"
     ]
    }
   ],
   "source": [
    "# On Windows:\n",
    "!rmdir /s /q checkpoints"
   ]
  },
  {
   "cell_type": "code",
   "execution_count": 24,
   "id": "98161fc4-d592-4b1c-bb5c-4eeb61caf14a",
   "metadata": {},
   "outputs": [
    {
     "name": "stdout",
     "output_type": "stream",
     "text": [
      "Chạy BFS để tìm đường đi từ 'Vũ Bảo' (id=270) đến những người có 'age > 79', với mối liên hệ là follow\n"
     ]
    },
    {
     "name": "stderr",
     "output_type": "stream",
     "text": [
      "                                                                                "
     ]
    }
   ],
   "source": [
    "# 3. Breadth-First Search (BFS) - Tìm đường đi ngắn nhất\n",
    "print(\"Chạy BFS để tìm đường đi từ 'Vũ Bảo' (id=270) đến những người có 'age > 79', với mối liên hệ là follow\")\n",
    "# Tìm đường đi từ đỉnh có id=270 đến các đỉnh thỏa mãn điều kiện age > 79, với mối liên hệ là follow\n",
    "paths = g.bfs(fromExpr=\"id = 270\", toExpr=\"age > 79\", edgeFilter=\"relationship = 'follow'\", maxPathLength=5) # maxPathLength giới hạn độ dài đường đi"
   ]
  },
  {
   "cell_type": "code",
   "execution_count": 25,
   "id": "876c7585-dd09-404f-ac4e-945a3f8c5726",
   "metadata": {},
   "outputs": [
    {
     "name": "stdout",
     "output_type": "stream",
     "text": [
      "Các đường đi tìm được:\n",
      "+-----------------+-------------------+--------------------+--------------------+--------------------+\n",
      "|             from|                 e0|                  v1|                  e1|                  to|\n",
      "+-----------------+-------------------+--------------------+--------------------+--------------------+\n",
      "|{270, Vũ Bảo, 63}|{270, 1339, follow}|{1339, Hoàng Khoa...|{1339, 1297, follow}| {1297, Lê Hạnh, 80}|\n",
      "|{270, Vũ Bảo, 63}|{270, 1339, follow}|{1339, Hoàng Khoa...|{1339, 1609, follow}|{1609, Vũ Đức Bảo...|\n",
      "|{270, Vũ Bảo, 63}|{270, 1339, follow}|{1339, Hoàng Khoa...|{1339, 1902, follow}|  {1902, Bùi An, 80}|\n",
      "|{270, Vũ Bảo, 63}|{270, 1339, follow}|{1339, Hoàng Khoa...| {1339, 870, follow}|{870, Dương Mai, 80}|\n",
      "|{270, Vũ Bảo, 63}|  {270, 65, follow}|   {65, Bùi Huy, 71}|   {65, 109, follow}| {109, Mai Nhật, 80}|\n",
      "|{270, Vũ Bảo, 63}| {270, 588, follow}| {588, Bùi Tùng, 25}|  {588, 870, follow}|{870, Dương Mai, 80}|\n",
      "|{270, Vũ Bảo, 63}| {270, 588, follow}| {588, Bùi Tùng, 25}|  {588, 767, follow}|{767, Nguyễn Trun...|\n",
      "|{270, Vũ Bảo, 63}| {270, 588, follow}| {588, Bùi Tùng, 25}|  {588, 712, follow}|{712, Lê Đức Hưng...|\n",
      "|{270, Vũ Bảo, 63}|{270, 1675, follow}| {1675, Mai Lâm, 74}|{1675, 1025, follow}|{1025, Nguyễn Hoà...|\n",
      "|{270, Vũ Bảo, 63}|{270, 1198, follow}|{1198, Phạm Hạnh,...| {1198, 712, follow}|{712, Lê Đức Hưng...|\n",
      "|{270, Vũ Bảo, 63}|{270, 1183, follow}|{1183, Nguyễn Hoà...|  {1183, 95, follow}|{95, Nguyễn Thế A...|\n",
      "|{270, Vũ Bảo, 63}|{270, 1183, follow}|{1183, Nguyễn Hoà...| {1183, 949, follow}|{949, Nguyễn Thàn...|\n",
      "|{270, Vũ Bảo, 63}|{270, 1752, follow}|{1752, Phạm Trung...|{1752, 1354, follow}|{1354, Phạm Anh, 80}|\n",
      "|{270, Vũ Bảo, 63}|{270, 1752, follow}|{1752, Phạm Trung...|{1752, 1428, follow}|{1428, Trần Phươn...|\n",
      "|{270, Vũ Bảo, 63}|{270, 1752, follow}|{1752, Phạm Trung...|{1752, 1609, follow}|{1609, Vũ Đức Bảo...|\n",
      "|{270, Vũ Bảo, 63}|{270, 1772, follow}|{1772, Vũ Hương, 63}|{1772, 1380, follow}|{1380, Phạm Thành...|\n",
      "|{270, Vũ Bảo, 63}|{270, 1772, follow}|{1772, Vũ Hương, 63}| {1772, 870, follow}|{870, Dương Mai, 80}|\n",
      "|{270, Vũ Bảo, 63}|{270, 1752, follow}|{1752, Phạm Trung...| {1752, 870, follow}|{870, Dương Mai, 80}|\n",
      "|{270, Vũ Bảo, 63}|  {270, 76, follow}|   {76, Lê Khoa, 52}|   {76, 949, follow}|{949, Nguyễn Thàn...|\n",
      "|{270, Vũ Bảo, 63}|{270, 1294, follow}|{1294, Lê Văn Hà,...| {1294, 613, follow}|{613, Nguyễn Xuân...|\n",
      "+-----------------+-------------------+--------------------+--------------------+--------------------+\n",
      "only showing top 20 rows\n",
      "\n"
     ]
    }
   ],
   "source": [
    "print(\"Các đường đi tìm được:\")\n",
    "paths.show()\n",
    "# Lưu ý: Kết quả paths chứa các cột e0, v1, e1, v2,... biểu diễn đường đi."
   ]
  },
  {
   "cell_type": "code",
   "execution_count": 26,
   "id": "78ecc733-8b7e-4cea-afc2-aaeab900fa99",
   "metadata": {},
   "outputs": [
    {
     "name": "stderr",
     "output_type": "stream",
     "text": [
      "                                                                                "
     ]
    },
    {
     "data": {
      "text/plain": [
       "125"
      ]
     },
     "execution_count": 26,
     "metadata": {},
     "output_type": "execute_result"
    }
   ],
   "source": [
    "paths.count()"
   ]
  },
  {
   "cell_type": "code",
   "execution_count": 27,
   "id": "d6eac098-d776-439c-a73f-26c38bfc21dd",
   "metadata": {},
   "outputs": [
    {
     "name": "stdout",
     "output_type": "stream",
     "text": [
      "Tìm đường đi ngắn nhất (là bạn bè) từ tất cả các đỉnh đến 'Bùi Ánh' (id = 1009):\n"
     ]
    },
    {
     "name": "stderr",
     "output_type": "stream",
     "text": [
      "[Stage 793:>                                                        (0 + 1) / 1]"
     ]
    },
    {
     "name": "stdout",
     "output_type": "stream",
     "text": [
      "+----+---------------+-----------+\n",
      "|  id|           name|  distances|\n",
      "+----+---------------+-----------+\n",
      "|1084|        Mai Bảo|{1009 -> 2}|\n",
      "|1410|    Dương Thành|{1009 -> 2}|\n",
      "|1687|    Đặng Thế An|{1009 -> 2}|\n",
      "| 667|    Vũ Hải Khoa|{1009 -> 1}|\n",
      "|1053| Đặng Hoàng Lâm|{1009 -> 2}|\n",
      "|1894| Vũ Hoàng Quang|{1009 -> 2}|\n",
      "| 466|  Dương Xuân An|{1009 -> 2}|\n",
      "|1040|      Đặng Thảo|{1009 -> 1}|\n",
      "| 912|      Phạm Hồng|{1009 -> 2}|\n",
      "|1325|     Trần Duyên|{1009 -> 2}|\n",
      "| 140|         Vũ Hải|{1009 -> 2}|\n",
      "| 204|     Hoàng Phúc|{1009 -> 1}|\n",
      "| 956|Nguyễn Trí Khoa|{1009 -> 2}|\n",
      "| 291|  Phạm Mai Tùng|{1009 -> 2}|\n",
      "|   1|  Phạm Thế Châu|{1009 -> 2}|\n",
      "| 931|   Phạm Văn Lâm|{1009 -> 2}|\n",
      "|1466|   Nguyễn Thành|{1009 -> 2}|\n",
      "| 755|         Lê Chi|{1009 -> 2}|\n",
      "|1813|  Phạm Đức Khoa|{1009 -> 2}|\n",
      "|1393|     Lê Xuân Vũ|{1009 -> 1}|\n",
      "+----+---------------+-----------+\n",
      "only showing top 20 rows\n",
      "\n"
     ]
    },
    {
     "name": "stderr",
     "output_type": "stream",
     "text": [
      "                                                                                "
     ]
    }
   ],
   "source": [
    "# 4. Shortest Paths - Tìm đường đi ngắn nhất (yêu cầu chỉ định các đỉnh đích cụ thể)\n",
    "print(\"Tìm đường đi ngắn nhất (là bạn bè) từ tất cả các đỉnh đến 'Bùi Ánh' (id = 1009):\")\n",
    "# landmarks là danh sách các đỉnh đích\n",
    "results_sp = g.filterEdges(\"relationship = 'friend'\").shortestPaths(landmarks=[\"1009\"])\n",
    "results_sp.select(\"id\", \"name\", \"distances\").show()\n",
    "# distances là một Map chứa khoảng cách từ đỉnh hiện tại đến các landmarks"
   ]
  },
  {
   "cell_type": "code",
   "execution_count": 28,
   "id": "3d6461e3-a0fd-48d5-ac16-8b00da53fe5b",
   "metadata": {},
   "outputs": [
    {
     "name": "stdout",
     "output_type": "stream",
     "text": [
      "Lọc lại danh sách các đỉnh có khoảng cách đường đi ngắn nhất đến đỉnh 1009, lớn hơn 2:\n",
      "+----+--------------+---+-----------+\n",
      "|  id|          name|age|  distances|\n",
      "+----+--------------+---+-----------+\n",
      "|1596|    Trần Trọng| 51|{1009 -> 3}|\n",
      "|1792|Nguyễn Hải Bảo| 63|{1009 -> 3}|\n",
      "| 702|   Phạm Thế Tú| 25|{1009 -> 3}|\n",
      "|1290|     Dương Yến| 42|{1009 -> 3}|\n",
      "|1004|      Phạm Ánh| 44|{1009 -> 3}|\n",
      "| 171|      Trần Kim| 35|{1009 -> 3}|\n",
      "|1070|    Lê Hải Bảo| 33|{1009 -> 3}|\n",
      "| 165|  Mai Bảo Hưng| 53|{1009 -> 3}|\n",
      "|1011|   Nguyễn Dũng| 63|{1009 -> 3}|\n",
      "|1660|    Bùi Bảo Hà| 64|{1009 -> 3}|\n",
      "| 743|   Hoàng Quang| 40|{1009 -> 3}|\n",
      "|1899|      Đặng Anh| 49|{1009 -> 3}|\n",
      "|   6|        Vũ Hải| 61|{1009 -> 3}|\n",
      "| 475|      Bùi Dũng| 68|{1009 -> 3}|\n",
      "| 426|        Lê Vân| 28|{1009 -> 3}|\n",
      "|1616|   Vũ Hoàng Tú| 63|{1009 -> 3}|\n",
      "|  17|       Lê Hạnh| 38|{1009 -> 3}|\n",
      "| 861|       Trần Vũ| 29|{1009 -> 3}|\n",
      "| 775|   Hoàng Hương| 38|{1009 -> 3}|\n",
      "|1477|     Dương Ánh| 57|{1009 -> 3}|\n",
      "+----+--------------+---+-----------+\n",
      "only showing top 20 rows\n",
      "\n"
     ]
    }
   ],
   "source": [
    "print(\"Lọc lại danh sách các đỉnh có khoảng cách đường đi ngắn nhất đến đỉnh 1009, lớn hơn 2:\")\n",
    "results_sp.filter(results_sp.distances['1009'] > 2).show()"
   ]
  },
  {
   "cell_type": "markdown",
   "id": "ee6fd443-7177-48c6-8f0d-c814417d9f36",
   "metadata": {},
   "source": [
    "# Bai tap 2"
   ]
  },
  {
   "cell_type": "markdown",
   "id": "c13bcdb0-2da4-4877-933b-f008bc2172a7",
   "metadata": {},
   "source": [
    "## a) Ai là người có nhiều bạn bè nhất (bậc ra cao nhất nếu 'friend' là cạnh có hướng, hoặc tổng bậc cao nhất)?"
   ]
  },
  {
   "cell_type": "code",
   "execution_count": 29,
   "id": "6d319098-44a3-4454-97de-d34279c1c079",
   "metadata": {},
   "outputs": [
    {
     "name": "stdout",
     "output_type": "stream",
     "text": [
      "Người có nhiều bạn bè nhất (bậc ra cao nhất):\n",
      "+----+---------+\n",
      "|  id|outDegree|\n",
      "+----+---------+\n",
      "|1226|      188|\n",
      "+----+---------+\n",
      "\n"
     ]
    }
   ],
   "source": [
    "# Đếm bậc ra (out-degree)\n",
    "out_degrees = g.outDegrees\n",
    "\n",
    "# Tìm người có bậc ra cao nhất\n",
    "most_outgoing = out_degrees.orderBy(col(\"outDegree\").desc()).limit(1)\n",
    "print(\"Người có nhiều bạn bè nhất (bậc ra cao nhất):\")\n",
    "most_outgoing.show()"
   ]
  },
  {
   "cell_type": "code",
   "execution_count": 30,
   "id": "26a57b50-486d-41f3-9bcb-3e047b3b70f2",
   "metadata": {},
   "outputs": [
    {
     "name": "stdout",
     "output_type": "stream",
     "text": [
      "Người có nhiều bạn bè nhất (tổng bậc cao nhất):\n",
      "+----+------+\n",
      "|  id|degree|\n",
      "+----+------+\n",
      "|1768|   353|\n",
      "+----+------+\n",
      "\n"
     ]
    },
    {
     "name": "stderr",
     "output_type": "stream",
     "text": [
      "                                                                                "
     ]
    }
   ],
   "source": [
    "# Đếm tổng bậc: bậc vào + bậc ra\n",
    "degrees = g.degrees\n",
    "\n",
    "# Tìm người có tổng bậc cao nhất\n",
    "most_connected = degrees.orderBy(col(\"degree\").desc()).limit(1)\n",
    "print(\"Người có nhiều bạn bè nhất (tổng bậc cao nhất):\")\n",
    "most_connected.show()"
   ]
  },
  {
   "cell_type": "markdown",
   "id": "ff2bfe80-bf16-4daa-bf39-e392800674a9",
   "metadata": {},
   "source": [
    "## b) Ai là người có tầm ảnh hưởng lớn nhất dựa trên PageRank?"
   ]
  },
  {
   "cell_type": "code",
   "execution_count": 31,
   "id": "76e990de-23f2-43f3-afa8-2f90008e0e4b",
   "metadata": {},
   "outputs": [
    {
     "name": "stdout",
     "output_type": "stream",
     "text": [
      "Người có tầm ảnh hưởng lớn nhất dựa trên PageRank:\n",
      "+---+---------+---+------------------+\n",
      "| id|     name|age|          pagerank|\n",
      "+---+---------+---+------------------+\n",
      "|918|Vũ Phương| 72|1.2482510238869435|\n",
      "+---+---------+---+------------------+\n",
      "\n"
     ]
    }
   ],
   "source": [
    "# Hiển thị người có điểm PageRank cao nhất\n",
    "most_influential = results_pr.vertices.orderBy(col(\"pagerank\").desc()).limit(1)\n",
    "\n",
    "print(\"Người có tầm ảnh hưởng lớn nhất dựa trên PageRank:\")\n",
    "most_influential.show()"
   ]
  },
  {
   "cell_type": "markdown",
   "id": "6b47f39c-5506-47db-aa67-5c589627fac7",
   "metadata": {},
   "source": [
    "## c) Liệt kê tất cả các \"bạn của bạn\" của một người dùng cụ thể (ví dụ:'Nguyễn An')."
   ]
  },
  {
   "cell_type": "code",
   "execution_count": 32,
   "id": "0d19fbac-03f8-4751-a5f0-8a3d73ad4613",
   "metadata": {},
   "outputs": [
    {
     "name": "stdout",
     "output_type": "stream",
     "text": [
      "Các bạn của bạn của 'Nguyễn An' (chưa phải bạn trực tiếp):\n"
     ]
    },
    {
     "name": "stderr",
     "output_type": "stream",
     "text": [
      "                                                                                "
     ]
    },
    {
     "name": "stdout",
     "output_type": "stream",
     "text": [
      "+---------+-----------------+\n",
      "|a_name   |c_name           |\n",
      "+---------+-----------------+\n",
      "|Nguyễn An|Phạm Thế Châu    |\n",
      "|Nguyễn An|Hoàng Nhiên      |\n",
      "|Nguyễn An|Trần Duy Hà      |\n",
      "|Nguyễn An|Mai Hương        |\n",
      "|Nguyễn An|Vũ Hải           |\n",
      "|Nguyễn An|Đặng Duy Dũng    |\n",
      "|Nguyễn An|Hoàng Hà         |\n",
      "|Nguyễn An|Vũ Kim           |\n",
      "|Nguyễn An|Nguyễn Châu      |\n",
      "|Nguyễn An|Nguyễn Bảo Vũ    |\n",
      "|Nguyễn An|Vũ Linh          |\n",
      "|Nguyễn An|Dương Duy Nhiên  |\n",
      "|Nguyễn An|Nguyễn An        |\n",
      "|Nguyễn An|Dương Khoa       |\n",
      "|Nguyễn An|Mai Kim          |\n",
      "|Nguyễn An|Lê Hồng          |\n",
      "|Nguyễn An|Nguyễn Nhật      |\n",
      "|Nguyễn An|Mai Phú Minh     |\n",
      "|Nguyễn An|Nguyễn Hải Phương|\n",
      "|Nguyễn An|Nguyễn Xuân Nhật |\n",
      "+---------+-----------------+\n",
      "only showing top 20 rows\n",
      "\n"
     ]
    },
    {
     "name": "stderr",
     "output_type": "stream",
     "text": [
      "[Stage 862:============================>                            (1 + 1) / 2]"
     ]
    },
    {
     "name": "stdout",
     "output_type": "stream",
     "text": [
      "Tổng số bạn của bạn của 'Nguyễn An': 5502\n"
     ]
    },
    {
     "name": "stderr",
     "output_type": "stream",
     "text": [
      "                                                                                "
     ]
    }
   ],
   "source": [
    "from pyspark.sql.functions import col\n",
    "\n",
    "target_name = \"Nguyễn An\"\n",
    "\n",
    "# Lấy bạn của bạn của 'Nguyễn An'\n",
    "fof_for_user = fof.filter(col(\"a_name\") == target_name)\n",
    "\n",
    "# Lấy bạn trực tiếp của 'Nguyễn An'\n",
    "direct_friends_for_user = direct_friends.filter(col(\"a_name\") == target_name)\n",
    "\n",
    "# Lọc ra bạn của bạn chưa phải bạn trực tiếp\n",
    "fof_results_for_user = fof_for_user.join(\n",
    "    direct_friends_for_user,\n",
    "    (fof_for_user.a_id == direct_friends_for_user.a_id) & (fof_for_user.c_id == direct_friends_for_user.c_id),\n",
    "    \"left_anti\"\n",
    ")\n",
    "\n",
    "print(f\"Các bạn của bạn của '{target_name}' (chưa phải bạn trực tiếp):\")\n",
    "fof_results_for_user.select(\"a_name\", \"c_name\").show(truncate=False)\n",
    "\n",
    "print(f\"Tổng số bạn của bạn của '{target_name}': {fof_results_for_user.count()}\")"
   ]
  },
  {
   "cell_type": "code",
   "execution_count": 33,
   "id": "ee04db74-e1ba-4d47-8071-82a65186fd82",
   "metadata": {},
   "outputs": [
    {
     "name": "stdout",
     "output_type": "stream",
     "text": [
      "Bạn trực tiếp của 'Nguyễn An':\n",
      "+---------+------------------+\n",
      "|a_name   |c_name            |\n",
      "+---------+------------------+\n",
      "|Nguyễn An|Đặng Mai          |\n",
      "|Nguyễn An|Đặng Duy Quang    |\n",
      "|Nguyễn An|Đặng Lâm          |\n",
      "|Nguyễn An|Trần Trung        |\n",
      "|Nguyễn An|Nguyễn An         |\n",
      "|Nguyễn An|Bùi Phương        |\n",
      "|Nguyễn An|Vũ Hải Hưng       |\n",
      "|Nguyễn An|Trần Trung        |\n",
      "|Nguyễn An|Bùi Đức Khoa      |\n",
      "|Nguyễn An|Nguyễn Hạnh       |\n",
      "|Nguyễn An|Nguyễn Anh        |\n",
      "|Nguyễn An|Nguyễn Quang Nhiên|\n",
      "|Nguyễn An|Trần Mai          |\n",
      "|Nguyễn An|Bùi Chi           |\n",
      "|Nguyễn An|Vũ Quang Nhật     |\n",
      "|Nguyễn An|Dương Bảo Phương  |\n",
      "|Nguyễn An|Trần Thành        |\n",
      "|Nguyễn An|Dương Bảo         |\n",
      "|Nguyễn An|Đặng Dũng         |\n",
      "|Nguyễn An|Vũ Đức Phương     |\n",
      "+---------+------------------+\n",
      "only showing top 20 rows\n",
      "\n"
     ]
    }
   ],
   "source": [
    "print(f\"Bạn trực tiếp của '{target_name}':\")\n",
    "direct_friends_for_user.select(\"a_name\", \"c_name\").show(truncate=False)"
   ]
  },
  {
   "cell_type": "markdown",
   "id": "2af423e2-b120-4099-89a4-e111995b3cd6",
   "metadata": {},
   "source": [
    "## d) Đồ thị này có bao nhiêu thành phần liên thông? Nhóm nào lớn nhất?"
   ]
  },
  {
   "cell_type": "code",
   "execution_count": 34,
   "id": "712085b2-7231-44d9-bd26-cc8a5b569490",
   "metadata": {},
   "outputs": [
    {
     "name": "stderr",
     "output_type": "stream",
     "text": [
      "                                                                                "
     ]
    },
    {
     "name": "stdout",
     "output_type": "stream",
     "text": [
      "Số lượng thành phần liên thông: 1\n"
     ]
    }
   ],
   "source": [
    "num_components = results_cc.select(\"component\").distinct().count()\n",
    "print(f\"Số lượng thành phần liên thông: {num_components}\")"
   ]
  },
  {
   "cell_type": "code",
   "execution_count": 35,
   "id": "80499aca-2ba8-4606-ac72-8ae1425b3ee5",
   "metadata": {},
   "outputs": [
    {
     "name": "stderr",
     "output_type": "stream",
     "text": [
      "                                                                                "
     ]
    },
    {
     "name": "stdout",
     "output_type": "stream",
     "text": [
      "+---------+----+\n",
      "|component|size|\n",
      "+---------+----+\n",
      "|        1|2000|\n",
      "+---------+----+\n",
      "\n"
     ]
    },
    {
     "name": "stderr",
     "output_type": "stream",
     "text": [
      "                                                                                "
     ]
    },
    {
     "name": "stdout",
     "output_type": "stream",
     "text": [
      "Nhóm lớn nhất có component id = 1 với 2000 đỉnh\n"
     ]
    }
   ],
   "source": [
    "from pyspark.sql.functions import count, desc\n",
    "\n",
    "component_sizes = results_cc.groupBy(\"component\").agg(count(\"id\").alias(\"size\"))\n",
    "component_sizes.orderBy(desc(\"size\")).show(1)\n",
    "\n",
    "largest_component = component_sizes.orderBy(desc(\"size\")).first()\n",
    "print(f\"Nhóm lớn nhất có component id = {largest_component['component']} với {largest_component['size']} đỉnh\")"
   ]
  },
  {
   "cell_type": "markdown",
   "id": "e404f18f-ca35-410b-baec-9dff2df3556b",
   "metadata": {},
   "source": [
    "## e) Tìm đường đi ngắn nhất giữa hai người dùng cụ thể (ví dụ: từ 'Vũ Linh' đến 'Phạm Phúc')."
   ]
  },
  {
   "cell_type": "code",
   "execution_count": 36,
   "id": "121bc70f-9dec-4943-97b2-e8eb09794e28",
   "metadata": {},
   "outputs": [],
   "source": [
    "# Tìm id của 'Vũ Linh'\n",
    "id_vu_linh = g.vertices.filter(\"name = 'Vũ Linh'\").select(\"id\").collect()[0][0]\n",
    "# Tìm id của 'Phạm Phúc'\n",
    "id_pham_phuc = g.vertices.filter(\"name = 'Phạm Phúc'\").select(\"id\").collect()[0][0]"
   ]
  },
  {
   "cell_type": "code",
   "execution_count": 37,
   "id": "5d50b0bf-bd3b-4da4-8109-5ee66270cb68",
   "metadata": {},
   "outputs": [
    {
     "name": "stderr",
     "output_type": "stream",
     "text": [
      "                                                                                "
     ]
    },
    {
     "name": "stdout",
     "output_type": "stream",
     "text": [
      "+----+---------------+------------------+\n",
      "|id  |name           |distances         |\n",
      "+----+---------------+------------------+\n",
      "|1084|Mai Bảo        |{11 -> 2, 20 -> 2}|\n",
      "|1410|Dương Thành    |{20 -> 2, 11 -> 2}|\n",
      "|1687|Đặng Thế An    |{20 -> 2, 11 -> 2}|\n",
      "|667 |Vũ Hải Khoa    |{20 -> 2, 11 -> 2}|\n",
      "|1053|Đặng Hoàng Lâm |{11 -> 2, 20 -> 1}|\n",
      "|1894|Vũ Hoàng Quang |{11 -> 2, 20 -> 2}|\n",
      "|466 |Dương Xuân An  |{20 -> 2, 11 -> 2}|\n",
      "|1040|Đặng Thảo      |{11 -> 2, 20 -> 2}|\n",
      "|912 |Phạm Hồng      |{20 -> 2, 11 -> 2}|\n",
      "|1325|Trần Duyên     |{20 -> 2, 11 -> 2}|\n",
      "|140 |Vũ Hải         |{11 -> 2, 20 -> 2}|\n",
      "|204 |Hoàng Phúc     |{11 -> 2, 20 -> 2}|\n",
      "|956 |Nguyễn Trí Khoa|{11 -> 2, 20 -> 2}|\n",
      "|291 |Phạm Mai Tùng  |{20 -> 2, 11 -> 2}|\n",
      "|1   |Phạm Thế Châu  |{11 -> 2, 20 -> 2}|\n",
      "|931 |Phạm Văn Lâm   |{11 -> 2, 20 -> 2}|\n",
      "|1466|Nguyễn Thành   |{11 -> 2, 20 -> 2}|\n",
      "|755 |Lê Chi         |{20 -> 2, 11 -> 2}|\n",
      "|1813|Phạm Đức Khoa  |{11 -> 2, 20 -> 2}|\n",
      "|1393|Lê Xuân Vũ     |{20 -> 2, 11 -> 2}|\n",
      "+----+---------------+------------------+\n",
      "only showing top 20 rows\n",
      "\n"
     ]
    }
   ],
   "source": [
    "results = g.shortestPaths(landmarks=[id_vu_linh, id_pham_phuc])\n",
    "results.select(\"id\", \"name\", \"distances\").show(truncate=False)"
   ]
  }
 ],
 "metadata": {
  "kernelspec": {
   "display_name": "Python 3 (ipykernel)",
   "language": "python",
   "name": "python3"
  },
  "language_info": {
   "codemirror_mode": {
    "name": "ipython",
    "version": 3
   },
   "file_extension": ".py",
   "mimetype": "text/x-python",
   "name": "python",
   "nbconvert_exporter": "python",
   "pygments_lexer": "ipython3",
   "version": "3.8.10"
  }
 },
 "nbformat": 4,
 "nbformat_minor": 5
}
