{
 "cells": [
  {
   "cell_type": "markdown",
   "id": "e662f1a4-b8d4-443c-8638-f838aaea4fad",
   "metadata": {},
   "source": [
    "# Lab 3 - 22521062"
   ]
  },
  {
   "cell_type": "markdown",
   "id": "1ab288b5-98a2-45d5-b0f0-374da22c4eb3",
   "metadata": {},
   "source": [
    "# Bai 1"
   ]
  },
  {
   "cell_type": "code",
   "execution_count": 4,
   "id": "198356eb-1a22-4d5c-89e2-2b623e61f561",
   "metadata": {},
   "outputs": [],
   "source": [
    "import random"
   ]
  },
  {
   "cell_type": "code",
   "execution_count": 6,
   "id": "c5bbf6fe-4777-4aca-99c6-63627840a051",
   "metadata": {},
   "outputs": [
    {
     "data": {
      "text/plain": [
       "[2.828369956165371,\n",
       " 4.95648818399713,\n",
       " 9.99497905133013,\n",
       " 4.79298519459975,\n",
       " 1.517734562653582,\n",
       " 8.874675982297955,\n",
       " 5.4015176356136845,\n",
       " 0.8223782821128711,\n",
       " 3.5119060730280225,\n",
       " 4.037884602833657,\n",
       " 4.44038454722449,\n",
       " 6.158997271367351,\n",
       " 6.548743643609204,\n",
       " 2.1463118299791883,\n",
       " 1.2410285707343593,\n",
       " 9.60367105386838,\n",
       " 2.8393282296122746,\n",
       " 0.6776881763612086,\n",
       " 8.108916243297825,\n",
       " 5.4635736057338615,\n",
       " 8.836037227273131,\n",
       " 2.435996786396527,\n",
       " 1.1570045879502955,\n",
       " 9.330523299884035,\n",
       " 4.599663149622005,\n",
       " 7.755630590002948,\n",
       " 2.593124141058063,\n",
       " 6.217649301155101,\n",
       " 3.1015050111781317,\n",
       " 0.7937673200054918,\n",
       " 4.544463548626685,\n",
       " 8.451697226354216,\n",
       " 4.659379799049993,\n",
       " 1.066303656440687,\n",
       " 3.8746549309490677,\n",
       " 1.9927456919997277,\n",
       " 9.044100617658303,\n",
       " 6.9732131319113835,\n",
       " 8.300683190763648,\n",
       " 0.8338863943886832,\n",
       " 7.4999561396077565,\n",
       " 1.742977034347205,\n",
       " 4.563853177965566,\n",
       " 8.605317092306965,\n",
       " 5.740029053528923,\n",
       " 7.669810137331551,\n",
       " 1.605905991477089,\n",
       " 6.463804506520784,\n",
       " 7.878270536335298,\n",
       " 4.572765932248723,\n",
       " 2.3662021730709917,\n",
       " 5.760259268823935,\n",
       " 3.9374602231788858,\n",
       " 0.7921298962184553,\n",
       " 6.548268386346397,\n",
       " 2.198040906012464,\n",
       " 9.181339516012022,\n",
       " 9.428162122177273,\n",
       " 0.6761962905820507,\n",
       " 5.715263434020122,\n",
       " 1.6649133836257823,\n",
       " 0.815495084896537,\n",
       " 5.56677482613273,\n",
       " 8.226143100467354,\n",
       " 7.913682568432878,\n",
       " 8.135806114473574,\n",
       " 4.278325660522676,\n",
       " 9.429937088748078,\n",
       " 5.796339576840463,\n",
       " 0.9060719613288182,\n",
       " 6.099973801800969,\n",
       " 5.271350392042093,\n",
       " 3.392181963962919,\n",
       " 4.171474621920828,\n",
       " 4.282945172807566,\n",
       " 1.8515860031314735,\n",
       " 6.649342772100873,\n",
       " 4.369655986439409,\n",
       " 0.28890417668828716,\n",
       " 5.21023632346965,\n",
       " 3.5296565909182887,\n",
       " 5.437210048580741,\n",
       " 2.632790393926382,\n",
       " 9.945578675579767,\n",
       " 4.254121020422033,\n",
       " 7.564525649732805,\n",
       " 5.9696141107289336,\n",
       " 2.6819806836377893,\n",
       " 6.273772702129864,\n",
       " 4.718264200760338,\n",
       " 4.363171538910006,\n",
       " 0.24688814764611267,\n",
       " 5.203246236834041,\n",
       " 7.326995704009676,\n",
       " 1.0226442898450205,\n",
       " 7.775463498916839,\n",
       " 7.8389090057544255,\n",
       " 1.9048439186260213,\n",
       " 2.3889440143119534,\n",
       " 5.550123343412329]"
      ]
     },
     "execution_count": 6,
     "metadata": {},
     "output_type": "execute_result"
    }
   ],
   "source": [
    "data = []\n",
    "for i in range (0,100):\n",
    "    data.append(random.uniform(0,10))\n",
    "data"
   ]
  },
  {
   "cell_type": "code",
   "execution_count": 7,
   "id": "6e89764c-9c0d-4fd2-9f4b-f738d67c550c",
   "metadata": {},
   "outputs": [],
   "source": [
    "rddSoThuc = sc.parallelize(data)"
   ]
  },
  {
   "cell_type": "code",
   "execution_count": 8,
   "id": "7e2aebb0-c7f5-4883-9b95-f1accfaf9056",
   "metadata": {},
   "outputs": [
    {
     "name": "stderr",
     "output_type": "stream",
     "text": [
      "                                                                                "
     ]
    },
    {
     "data": {
      "text/plain": [
       "100"
      ]
     },
     "execution_count": 8,
     "metadata": {},
     "output_type": "execute_result"
    }
   ],
   "source": [
    "rddSoThuc.count()"
   ]
  },
  {
   "cell_type": "code",
   "execution_count": 9,
   "id": "147f13b7-d422-4c50-bc38-54932401f657",
   "metadata": {},
   "outputs": [],
   "source": [
    "tong = rddSoThuc.sum()"
   ]
  },
  {
   "cell_type": "code",
   "execution_count": 10,
   "id": "d516e7ff-0741-4901-a38e-0562bc551074",
   "metadata": {},
   "outputs": [
    {
     "data": {
      "text/plain": [
       "484.42548847171713"
      ]
     },
     "execution_count": 10,
     "metadata": {},
     "output_type": "execute_result"
    }
   ],
   "source": [
    "tong"
   ]
  },
  {
   "cell_type": "code",
   "execution_count": 11,
   "id": "e9433a87-5cdc-475d-9328-796421c23da3",
   "metadata": {},
   "outputs": [
    {
     "name": "stdout",
     "output_type": "stream",
     "text": [
      "Trung binh cong cua day so thuc la:  4.844254884717171\n"
     ]
    }
   ],
   "source": [
    "print(\"Trung binh cong cua day so thuc la: \", tong/rddSoThuc.count())"
   ]
  },
  {
   "cell_type": "code",
   "execution_count": 12,
   "id": "6ce037f9-69ff-4358-86cb-db3cb1811cde",
   "metadata": {},
   "outputs": [
    {
     "data": {
      "text/plain": [
       "5.40426362683607e+57"
      ]
     },
     "execution_count": 12,
     "metadata": {},
     "output_type": "execute_result"
    }
   ],
   "source": [
    "tich = rddSoThuc.reduce(lambda x, y: x*y)\n",
    "tich"
   ]
  },
  {
   "cell_type": "code",
   "execution_count": 13,
   "id": "b4cb613f-1daf-4456-9c2c-829e3174c699",
   "metadata": {},
   "outputs": [
    {
     "name": "stdout",
     "output_type": "stream",
     "text": [
      "Trung binh nhan cua day so thuc la:  3.7785690699243077\n"
     ]
    }
   ],
   "source": [
    "print(\"Trung binh nhan cua day so thuc la: \", tich**(1/rddSoThuc.count()))"
   ]
  },
  {
   "cell_type": "markdown",
   "id": "cd5ef838-b5fc-4de4-ad82-4d7c779501e3",
   "metadata": {},
   "source": [
    "# Bai 2"
   ]
  },
  {
   "cell_type": "code",
   "execution_count": 14,
   "id": "268e0dd6-a751-4821-a4cf-5ee496842432",
   "metadata": {},
   "outputs": [
    {
     "data": {
      "text/plain": [
       "[2.537421151598216,\n",
       " 6.725374769704845,\n",
       " 4.521301994271148,\n",
       " 9.303706280340217,\n",
       " 2.660321850401286,\n",
       " 9.648911369687529,\n",
       " 7.794466965371805,\n",
       " 5.880664240938715,\n",
       " 4.565649449262726,\n",
       " 4.9627932772199195,\n",
       " 3.2599392153474414,\n",
       " 2.186663965036433,\n",
       " 2.5877797714692408,\n",
       " 4.413442489297783,\n",
       " 8.86842756379136,\n",
       " 6.770986421991932,\n",
       " 2.0308887643624427,\n",
       " 6.139370681354833,\n",
       " 3.663633291537156,\n",
       " 8.4714672689602,\n",
       " 1.6344661321665643,\n",
       " 2.0818423675519093,\n",
       " 3.7366009983166704,\n",
       " 1.7411129242391121,\n",
       " 6.661088534441327,\n",
       " 5.5577316175226,\n",
       " 7.828489283746868,\n",
       " 6.3311069693531845,\n",
       " 0.91684045653736,\n",
       " 1.299487606629588,\n",
       " 2.6556996274610056,\n",
       " 9.485061920372026,\n",
       " 9.197556160152164,\n",
       " 2.6540508940406227,\n",
       " 6.601153059472557,\n",
       " 6.032591719721664,\n",
       " 0.4933875233285723,\n",
       " 9.990063686104696,\n",
       " 6.559598089168132,\n",
       " 1.61733381780791,\n",
       " 5.583527588638544,\n",
       " 3.9433266079437,\n",
       " 2.3771101798598115,\n",
       " 7.1167939361691,\n",
       " 4.889210143871104,\n",
       " 4.2103811124406985,\n",
       " 3.2325721841487143,\n",
       " 1.2133850383268996,\n",
       " 2.8137357598174972,\n",
       " 3.847509333620618,\n",
       " 8.304194574962882,\n",
       " 6.95479496516975,\n",
       " 6.273522454453495,\n",
       " 4.072362997965886,\n",
       " 6.120060643353675,\n",
       " 7.2393716115593145,\n",
       " 8.005790667557445,\n",
       " 0.8272616621112094,\n",
       " 8.49256986496988,\n",
       " 7.594590799223699,\n",
       " 7.160061901461681,\n",
       " 8.991354392111429,\n",
       " 3.999501275318779,\n",
       " 5.651179592042441,\n",
       " 1.8764581180187112,\n",
       " 4.92254081780613,\n",
       " 6.95367595150242,\n",
       " 2.5449422408484237,\n",
       " 4.570446434203993,\n",
       " 7.012620057688497,\n",
       " 8.904318684806118,\n",
       " 2.749610283940317,\n",
       " 3.886384748860591,\n",
       " 2.0712539412890605,\n",
       " 3.6683754783145703,\n",
       " 6.819464662615471,\n",
       " 4.9369733008587815,\n",
       " 2.3823557433257014,\n",
       " 9.266781219025834,\n",
       " 2.747413023308799,\n",
       " 4.169928759247414,\n",
       " 7.8626772136763465,\n",
       " 7.836203422814906,\n",
       " 1.184082628280274,\n",
       " 5.916433413376748,\n",
       " 5.287219651742441,\n",
       " 1.6078872560535373,\n",
       " 9.583622466929103,\n",
       " 6.991883758016719,\n",
       " 2.750648798677834,\n",
       " 9.808526032871978,\n",
       " 9.536876515312594,\n",
       " 2.7360494904848363,\n",
       " 4.967317298457137,\n",
       " 5.7589329016515745,\n",
       " 2.8125715800978544,\n",
       " 0.37536892687959345,\n",
       " 9.710396724961209,\n",
       " 6.231334852145778,\n",
       " 1.2550269346293697]"
      ]
     },
     "execution_count": 14,
     "metadata": {},
     "output_type": "execute_result"
    }
   ],
   "source": [
    "import random\n",
    "data2 = []\n",
    "for i in range(0,100):\n",
    "    data2.append(random.uniform(0,10))\n",
    "data2"
   ]
  },
  {
   "cell_type": "code",
   "execution_count": 15,
   "id": "162bf5f8-03af-416d-b507-f73e73056fb0",
   "metadata": {},
   "outputs": [],
   "source": [
    "rddSoThuc2 = sc.parallelize(data)"
   ]
  },
  {
   "cell_type": "code",
   "execution_count": 16,
   "id": "deccc017-dd0b-44c2-8bb3-7d0acffe9888",
   "metadata": {},
   "outputs": [
    {
     "data": {
      "text/plain": [
       "100"
      ]
     },
     "execution_count": 16,
     "metadata": {},
     "output_type": "execute_result"
    }
   ],
   "source": [
    "rddSoThuc2.count()"
   ]
  },
  {
   "cell_type": "code",
   "execution_count": 17,
   "id": "bf280ae4-7fd4-47ac-925e-da55b099ce86",
   "metadata": {},
   "outputs": [],
   "source": [
    "mean = rddSoThuc2.mean()\n",
    "variance = rddSoThuc2.map(lambda x: (x - mean) **2).mean()\n",
    "std_dev = variance ** 0.5"
   ]
  },
  {
   "cell_type": "code",
   "execution_count": 19,
   "id": "d1003967-e95b-4c6c-94f1-8ee5d65cacfe",
   "metadata": {},
   "outputs": [
    {
     "name": "stdout",
     "output_type": "stream",
     "text": [
      "Trung binh:  4.844254884717173\n",
      "Phuong sai:  7.4620126434269345\n",
      "Do lech chuan:  2.731668472459082\n"
     ]
    }
   ],
   "source": [
    "print(\"Trung binh: \",mean)\n",
    "print(\"Phuong sai: \",variance)\n",
    "print(\"Do lech chuan: \",std_dev)"
   ]
  },
  {
   "cell_type": "markdown",
   "id": "33f836c3-85a9-4b9b-a14c-709ae1598572",
   "metadata": {},
   "source": [
    "# Bai 3"
   ]
  },
  {
   "cell_type": "code",
   "execution_count": 20,
   "id": "6dece7ca-8ce7-45ce-ac5e-989c1d9bbeaf",
   "metadata": {},
   "outputs": [],
   "source": [
    "rddData = sc.textFile(\"file:///home/oanh/Downloads/data_phanso\")"
   ]
  },
  {
   "cell_type": "code",
   "execution_count": 21,
   "id": "65fc30fd-4a00-4f1c-b5b5-614a4d25445d",
   "metadata": {},
   "outputs": [
    {
     "data": {
      "text/plain": [
       "['2/3', '5/6', '7/8', '1/2', '9/10']"
      ]
     },
     "execution_count": 21,
     "metadata": {},
     "output_type": "execute_result"
    }
   ],
   "source": [
    "rddData.collect()"
   ]
  },
  {
   "cell_type": "code",
   "execution_count": 24,
   "id": "68482f9b-7800-4a99-b6c7-6f1cf80e43f5",
   "metadata": {},
   "outputs": [],
   "source": [
    "def str2PS(x:str):\n",
    "    items = x.split(\"/\")\n",
    "    return (int(items[0]), int(items[1]))\n",
    "rddPS = rddData.map(lambda x: str2PS(x))"
   ]
  },
  {
   "cell_type": "code",
   "execution_count": 25,
   "id": "cc38fa80-6205-42b5-988a-fce5cf45fc2c",
   "metadata": {},
   "outputs": [
    {
     "data": {
      "text/plain": [
       "[(2, 3), (5, 6), (7, 8), (1, 2), (9, 10)]"
      ]
     },
     "execution_count": 25,
     "metadata": {},
     "output_type": "execute_result"
    }
   ],
   "source": [
    "rddPS.collect()"
   ]
  },
  {
   "cell_type": "code",
   "execution_count": 26,
   "id": "0533c6d9-d3eb-409c-8e0a-362b4279f4df",
   "metadata": {},
   "outputs": [],
   "source": [
    "def add_fractions(f1, f2):\n",
    "    num1, den1 = f1\n",
    "    num2, den2 = f2\n",
    "    common_den = den1*den2\n",
    "    common_num = num1*den2 + num2*den1\n",
    "    return (common_num, common_den)"
   ]
  },
  {
   "cell_type": "code",
   "execution_count": 27,
   "id": "0ee21274-7524-4d51-a531-00e36fa87ac2",
   "metadata": {},
   "outputs": [],
   "source": [
    "sum_fractions = rddPS.reduce(add_fractions)"
   ]
  },
  {
   "cell_type": "code",
   "execution_count": 28,
   "id": "aa36de0d-d2a8-498e-801c-726f669aced9",
   "metadata": {},
   "outputs": [
    {
     "name": "stdout",
     "output_type": "stream",
     "text": [
      "Tong phan so:  3.775\n"
     ]
    }
   ],
   "source": [
    "print(\"Tong phan so: \",sum_fractions[0]/sum_fractions[1])"
   ]
  }
 ],
 "metadata": {
  "kernelspec": {
   "display_name": "Python 3 (ipykernel)",
   "language": "python",
   "name": "python3"
  },
  "language_info": {
   "codemirror_mode": {
    "name": "ipython",
    "version": 3
   },
   "file_extension": ".py",
   "mimetype": "text/x-python",
   "name": "python",
   "nbconvert_exporter": "python",
   "pygments_lexer": "ipython3",
   "version": "3.8.10"
  }
 },
 "nbformat": 4,
 "nbformat_minor": 5
}
